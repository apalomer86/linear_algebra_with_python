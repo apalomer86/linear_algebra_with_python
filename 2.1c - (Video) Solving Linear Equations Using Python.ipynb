{
 "cells": [
  {
   "attachments": {},
   "cell_type": "markdown",
   "id": "1a069ce0-6126-41a1-866b-1b5a6f3afed5",
   "metadata": {
    "tags": []
   },
   "source": [
    "#### __LEARNING OBJECTIVES__\n",
    "-----"
   ]
  },
  {
   "attachments": {},
   "cell_type": "markdown",
   "id": "3fd5b0d1-3d76-490b-bfad-2a6a59fc69b3",
   "metadata": {
    "tags": []
   },
   "source": [
    "Red\n",
    "<br>\n",
    "__========================================================================__\n",
    "##### __Learning Objectives__ \n",
    "-----\n",
    "* In this lesson you will learn how to\n",
    "  * Solve linear aequations using Python\n",
    "  \n",
    "  "
   ]
  },
  {
   "cell_type": "code",
   "execution_count": null,
   "id": "07e91dcd",
   "metadata": {},
   "outputs": [],
   "source": []
  },
  {
   "attachments": {},
   "cell_type": "markdown",
   "id": "ffa92935",
   "metadata": {},
   "source": [
    "Orange\n",
    "<br>\n",
    "__========================================================================__\n",
    "##### __Lesson Oveiew__ \n",
    "-----\n",
    "* Solve linear equations using the inverse method\n",
    "* Solve linear equations using reduced row echelon form\n",
    "* Solve linear equation using the __la.solve()__ method"
   ]
  },
  {
   "cell_type": "code",
   "execution_count": null,
   "id": "476e8b62",
   "metadata": {},
   "outputs": [],
   "source": []
  },
  {
   "cell_type": "markdown",
   "id": "8cc43c7e",
   "metadata": {},
   "source": [
    "<br><br>"
   ]
  },
  {
   "attachments": {},
   "cell_type": "markdown",
   "id": "351c27bc",
   "metadata": {},
   "source": [
    "#### __SOLVING LINEAR EQUATIONS USING PYTHON__\n",
    "-----"
   ]
  },
  {
   "attachments": {},
   "cell_type": "markdown",
   "id": "ce01494b-9443-41a4-b6f2-92152baf572b",
   "metadata": {
    "tags": []
   },
   "source": [
    "Yellow\n",
    "<br>\n",
    "__========================================================================__\n",
    "##### __Importing libraries__ \n",
    "-----\n",
    "* Bullet 1\n",
    "* Bullet 2\n",
    "  * Bullet 2a\n",
    "  * Bullet 2b"
   ]
  },
  {
   "cell_type": "code",
   "execution_count": 4,
   "id": "7998e93c-efc5-435e-a163-707d1446a4cf",
   "metadata": {
    "tags": []
   },
   "outputs": [],
   "source": [
    "import numpy as np\n",
    "from IPython.display import display, Latex\n",
    "import sympy as sy"
   ]
  },
  {
   "attachments": {},
   "cell_type": "markdown",
   "id": "7186969e",
   "metadata": {},
   "source": [
    "Given the folowing system of linear equations (***I***):\n",
    "\n",
    "  > 4<font = 'Times New Roman'>x + 3y + 2z = 25 <br>\n",
    "  > -2x + 2y + 3z = -10<br>\n",
    "  > 3x - 5y + 2z = -4<br>"
   ]
  },
  {
   "cell_type": "code",
   "execution_count": null,
   "id": "9742f4cd",
   "metadata": {},
   "outputs": [],
   "source": []
  },
  {
   "attachments": {},
   "cell_type": "markdown",
   "id": "10724f1f-15fc-4999-b1d2-0b60b3d26c10",
   "metadata": {
    "tags": []
   },
   "source": [
    "Green\n",
    "<br>\n",
    "__========================================================================__\n",
    "##### __Solve Linear Equation Using Inverse Method__ \n",
    "-----\n",
    "* Bullet 1\n",
    "* Bullet 2\n",
    "  * Bullet 2a\n",
    "  * Bullet 2b"
   ]
  },
  {
   "cell_type": "code",
   "execution_count": 12,
   "metadata": {},
   "outputs": [
    {
     "data": {
      "text/plain": [
       "array([[ 4,  3,  2],\n",
       "       [-2,  2,  3],\n",
       "       [ 3, -5,  2]])"
      ]
     },
     "execution_count": 12,
     "metadata": {},
     "output_type": "execute_result"
    }
   ],
   "source": [
    "# Let M be the coeffiient matrix:\n",
    "M = np.array([[4, 3, 2], [-2, 2, 3], [3, -5, 2]])\n",
    "M"
   ]
  },
  {
   "cell_type": "code",
   "execution_count": 11,
   "id": "28a8af20-8a18-48f7-a5be-870aba92ca0e",
   "metadata": {
    "tags": []
   },
   "outputs": [
    {
     "data": {
      "text/plain": [
       "array([[ 25],\n",
       "       [-10],\n",
       "       [  4]])"
      ]
     },
     "execution_count": 11,
     "metadata": {},
     "output_type": "execute_result"
    }
   ],
   "source": [
    "# Let K be the column matrix:\n",
    "K = np.array([[25], [-10], [4]])\n",
    "K"
   ]
  },
  {
   "cell_type": "code",
   "execution_count": 13,
   "id": "8f28cefa",
   "metadata": {},
   "outputs": [
    {
     "data": {
      "text/plain": [
       "array([[x],\n",
       "       [y],\n",
       "       [z]], dtype=object)"
      ]
     },
     "execution_count": 13,
     "metadata": {},
     "output_type": "execute_result"
    }
   ],
   "source": [
    "# Let V be the following matrix:\n",
    "V = np.array([[x], [y], [z]])\n",
    "V"
   ]
  },
  {
   "cell_type": "code",
   "execution_count": null,
   "id": "4f7da8bf",
   "metadata": {},
   "outputs": [],
   "source": []
  },
  {
   "attachments": {},
   "cell_type": "markdown",
   "id": "93b7462f-2e90-4589-ac40-804d86045be1",
   "metadata": {
    "tags": []
   },
   "source": [
    "Blue\n",
    "<br>\n",
    "__========================================================================__\n",
    "##### __Equation (I) can be written as...__ \n",
    "-----\n",
    "* Equation (**I**) can be written as...\n",
    "\n",
    "    * _M_ * _V_ = _K_\n",
    "<br>\n",
    "\n",
    "    so...\n",
    "\n",
    "* ___V_ = Inverse of _M_ times _K___"
   ]
  },
  {
   "cell_type": "code",
   "execution_count": 5,
   "id": "5e77a647-d626-4322-a45f-ba98db36d4eb",
   "metadata": {
    "tags": []
   },
   "outputs": [
    {
     "name": "stdout",
     "output_type": "stream",
     "text": [
      "insert code here\n"
     ]
    }
   ],
   "source": [
    "print(\"insert code here\")"
   ]
  },
  {
   "cell_type": "code",
   "execution_count": null,
   "id": "68a3de91",
   "metadata": {},
   "outputs": [],
   "source": []
  },
  {
   "attachments": {},
   "cell_type": "markdown",
   "id": "9837e22f-03be-4eb2-9ecd-2bfd9808e19d",
   "metadata": {
    "tags": []
   },
   "source": [
    "Purple\n",
    "<br>\n",
    "__========================================================================__\n",
    "##### __Purple Box Title__ \n",
    "-----\n",
    "* Bullet 1\n",
    "* Bullet 2\n",
    "  * Bullet 2a\n",
    "  * Bullet 2b"
   ]
  },
  {
   "cell_type": "code",
   "execution_count": 6,
   "id": "95d45cd1-35b6-4581-812a-fbed31d3694b",
   "metadata": {
    "tags": []
   },
   "outputs": [
    {
     "name": "stdout",
     "output_type": "stream",
     "text": [
      "insert code here\n"
     ]
    }
   ],
   "source": [
    "print(\"insert code here\")"
   ]
  },
  {
   "cell_type": "code",
   "execution_count": null,
   "id": "f4858fc4",
   "metadata": {},
   "outputs": [],
   "source": []
  },
  {
   "cell_type": "markdown",
   "id": "4b495682-eb77-4df0-b1a5-6bdecc9f4f8f",
   "metadata": {},
   "source": [
    "<br><br>"
   ]
  },
  {
   "attachments": {},
   "cell_type": "markdown",
   "id": "5a17391b",
   "metadata": {},
   "source": [
    "#### __TITLE__\n",
    "-----"
   ]
  },
  {
   "attachments": {},
   "cell_type": "markdown",
   "id": "2a05cab1",
   "metadata": {},
   "source": [
    "Red\n",
    "<br>\n",
    "__========================================================================__\n",
    "##### __Red Box Title__ \n",
    "-----\n",
    "* Bullet 1\n",
    "* Bullet 2\n",
    "  * Bullet 2a\n",
    "  * Bullet 2b"
   ]
  },
  {
   "cell_type": "code",
   "execution_count": 7,
   "id": "0beec94d",
   "metadata": {},
   "outputs": [
    {
     "name": "stdout",
     "output_type": "stream",
     "text": [
      "insert code here\n"
     ]
    }
   ],
   "source": [
    "print(\"insert code here\")"
   ]
  },
  {
   "cell_type": "code",
   "execution_count": null,
   "id": "7b11c7e9",
   "metadata": {},
   "outputs": [],
   "source": []
  },
  {
   "attachments": {},
   "cell_type": "markdown",
   "id": "dda7e561",
   "metadata": {},
   "source": [
    "Orange\n",
    "<br>\n",
    "__========================================================================__\n",
    "##### __Orange Box Title__ \n",
    "-----\n",
    "* Bullet 1\n",
    "* Bullet 2\n",
    "  * Bullet 2a\n",
    "  * Bullet 2b"
   ]
  },
  {
   "cell_type": "code",
   "execution_count": 8,
   "id": "a0a2fb01",
   "metadata": {},
   "outputs": [
    {
     "name": "stdout",
     "output_type": "stream",
     "text": [
      "insert code here\n"
     ]
    }
   ],
   "source": [
    "print(\"insert code here\")"
   ]
  },
  {
   "cell_type": "code",
   "execution_count": null,
   "id": "81eab10e",
   "metadata": {},
   "outputs": [],
   "source": []
  },
  {
   "attachments": {},
   "cell_type": "markdown",
   "id": "65059e99",
   "metadata": {},
   "source": [
    "Yellow\n",
    "<br>\n",
    "__========================================================================__\n",
    "##### __Yellow Box Title__ \n",
    "-----\n",
    "* Bullet 1\n",
    "* Bullet 2\n",
    "  * Bullet 2a\n",
    "  * Bullet 2b"
   ]
  },
  {
   "cell_type": "code",
   "execution_count": 9,
   "id": "9abb9561",
   "metadata": {},
   "outputs": [
    {
     "name": "stdout",
     "output_type": "stream",
     "text": [
      "insert code here\n"
     ]
    }
   ],
   "source": [
    "print(\"insert code here\")"
   ]
  },
  {
   "cell_type": "code",
   "execution_count": null,
   "id": "4f8749a3",
   "metadata": {},
   "outputs": [],
   "source": []
  },
  {
   "attachments": {},
   "cell_type": "markdown",
   "id": "adbb1d2d",
   "metadata": {},
   "source": [
    "Green\n",
    "<br>\n",
    "__========================================================================__\n",
    "##### __Green Box Title__ \n",
    "-----\n",
    "* Bullet 1\n",
    "* Bullet 2\n",
    "  * Bullet 2a\n",
    "  * Bullet 2b"
   ]
  },
  {
   "cell_type": "code",
   "execution_count": 10,
   "id": "309e904b",
   "metadata": {},
   "outputs": [
    {
     "name": "stdout",
     "output_type": "stream",
     "text": [
      "insert code here\n"
     ]
    }
   ],
   "source": [
    "print(\"insert code here\")"
   ]
  },
  {
   "cell_type": "code",
   "execution_count": null,
   "id": "5d715d86",
   "metadata": {},
   "outputs": [],
   "source": []
  },
  {
   "attachments": {},
   "cell_type": "markdown",
   "id": "39c5c6e8",
   "metadata": {},
   "source": [
    "Blue\n",
    "<br>\n",
    "__========================================================================__\n",
    "##### __Blue Box Title__ \n",
    "-----\n",
    "* Bullet 1\n",
    "* Bullet 2\n",
    "  * Bullet 2a\n",
    "  * Bullet 2b"
   ]
  },
  {
   "cell_type": "code",
   "execution_count": 11,
   "id": "c0299ac3",
   "metadata": {},
   "outputs": [
    {
     "name": "stdout",
     "output_type": "stream",
     "text": [
      "insert code here\n"
     ]
    }
   ],
   "source": [
    "print(\"insert code here\")"
   ]
  },
  {
   "attachments": {},
   "cell_type": "markdown",
   "id": "5211090f",
   "metadata": {},
   "source": [
    "Purple\n",
    "<br>\n",
    "__========================================================================__\n",
    "##### __Purple Box Title__ \n",
    "-----\n",
    "* Bullet 1\n",
    "* Bullet 2\n",
    "  * Bullet 2a\n",
    "  * Bullet 2b"
   ]
  },
  {
   "cell_type": "code",
   "execution_count": 12,
   "id": "6559177a",
   "metadata": {},
   "outputs": [
    {
     "name": "stdout",
     "output_type": "stream",
     "text": [
      "insert code here\n"
     ]
    }
   ],
   "source": [
    "print(\"insert code here\")"
   ]
  },
  {
   "cell_type": "code",
   "execution_count": null,
   "id": "a1659e90",
   "metadata": {},
   "outputs": [],
   "source": []
  },
  {
   "attachments": {},
   "cell_type": "markdown",
   "id": "249b4f3f",
   "metadata": {},
   "source": [
    "<br><br>"
   ]
  },
  {
   "cell_type": "code",
   "execution_count": null,
   "id": "7fa96a2f",
   "metadata": {},
   "outputs": [],
   "source": []
  }
 ],
 "metadata": {
  "kernelspec": {
   "display_name": "Python 3 (ipykernel)",
   "language": "python",
   "name": "python3"
  },
  "language_info": {
   "codemirror_mode": {
    "name": "ipython",
    "version": 3
   },
   "file_extension": ".py",
   "mimetype": "text/x-python",
   "name": "python",
   "nbconvert_exporter": "python",
   "pygments_lexer": "ipython3",
   "version": "3.10.4"
  }
 },
 "nbformat": 4,
 "nbformat_minor": 5
}
