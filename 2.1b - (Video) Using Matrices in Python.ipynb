{
 "cells": [
  {
   "attachments": {},
   "cell_type": "markdown",
   "id": "1a069ce0-6126-41a1-866b-1b5a6f3afed5",
   "metadata": {
    "tags": []
   },
   "source": [
    "#### __LEARNING OBJECTIVES__\n",
    "-----"
   ]
  },
  {
   "attachments": {},
   "cell_type": "markdown",
   "id": "3fd5b0d1-3d76-490b-bfad-2a6a59fc69b3",
   "metadata": {
    "tags": []
   },
   "source": [
    "Red\n",
    "<br>\n",
    "__========================================================================__\n",
    "##### __Learning Objectives__ \n",
    "-----\n",
    "* In this lesson you will learn how to\n",
    "  * Input matrices into Python using three different methods\n",
    "  * Grab specific integers in matrices"
   ]
  },
  {
   "cell_type": "code",
   "execution_count": null,
   "id": "07e91dcd",
   "metadata": {},
   "outputs": [],
   "source": []
  },
  {
   "cell_type": "markdown",
   "id": "8cc43c7e",
   "metadata": {},
   "source": [
    "<br><br>"
   ]
  },
  {
   "attachments": {},
   "cell_type": "markdown",
   "id": "351c27bc",
   "metadata": {},
   "source": [
    "#### __USING MATRICES IN PYTHON__\n",
    "-----"
   ]
  },
  {
   "attachments": {},
   "cell_type": "markdown",
   "id": "603d73c3-bbdc-4a81-979f-fa3d6acfd3a1",
   "metadata": {
    "tags": []
   },
   "source": [
    "Orange\n",
    "<br>\n",
    "__========================================================================__\n",
    "##### __Importing Libraries__ \n",
    "-----\n",
    "* Start by importing the library __numpy__ and __random__\n",
    "* We actually won't be using __sympy__ this time around beacuse these are some long ass arrays\n",
    "  \n",
    "  "
   ]
  },
  {
   "cell_type": "code",
   "execution_count": 30,
   "id": "0f41760c-aa5b-430a-995e-608f53becde5",
   "metadata": {
    "tags": []
   },
   "outputs": [],
   "source": [
    "import numpy as np\n",
    "import random"
   ]
  },
  {
   "cell_type": "code",
   "execution_count": null,
   "id": "cb1d2db1",
   "metadata": {},
   "outputs": [],
   "source": []
  },
  {
   "attachments": {},
   "cell_type": "markdown",
   "id": "ce01494b-9443-41a4-b6f2-92152baf572b",
   "metadata": {
    "tags": []
   },
   "source": [
    "Yellow\n",
    "<br>\n",
    "__========================================================================__\n",
    "##### __Building Matrices Using NumPy__ \n",
    "-----\n",
    "* The code below creates an array matrix <span style = font-family:times>_L_</span> with. numbers starting from 0 to 120. This whole array will be divided into 25 entries. \n",
    "  "
   ]
  },
  {
   "cell_type": "code",
   "execution_count": 31,
   "id": "7998e93c-efc5-435e-a163-707d1446a4cf",
   "metadata": {
    "tags": []
   },
   "outputs": [
    {
     "data": {
      "text/plain": [
       "array([  0.,   5.,  10.,  15.,  20.,  25.,  30.,  35.,  40.,  45.,  50.,\n",
       "        55.,  60.,  65.,  70.,  75.,  80.,  85.,  90.,  95., 100., 105.,\n",
       "       110., 115., 120.])"
      ]
     },
     "execution_count": 31,
     "metadata": {},
     "output_type": "execute_result"
    }
   ],
   "source": [
    "L = np.linspace(0, 120, 25)\n",
    "L"
   ]
  },
  {
   "attachments": {},
   "cell_type": "markdown",
   "id": "928b6188",
   "metadata": {},
   "source": [
    "-----\n",
    "* If we printed this with sympy, we'd see that this would be one long ass column vector with 25 rows.\n",
    "\n",
    "  * To make this into an easier-to-read matrix, we're going to reshape it into a matrix style array with 5 rows and 5 columns."
   ]
  },
  {
   "cell_type": "code",
   "execution_count": 32,
   "id": "efe03b01",
   "metadata": {},
   "outputs": [
    {
     "data": {
      "text/plain": [
       "array([[  0.,   5.,  10.,  15.,  20.],\n",
       "       [ 25.,  30.,  35.,  40.,  45.],\n",
       "       [ 50.,  55.,  60.,  65.,  70.],\n",
       "       [ 75.,  80.,  85.,  90.,  95.],\n",
       "       [100., 105., 110., 115., 120.]])"
      ]
     },
     "execution_count": 32,
     "metadata": {},
     "output_type": "execute_result"
    }
   ],
   "source": [
    "M = L.reshape(5, 5)\n",
    "M"
   ]
  },
  {
   "attachments": {},
   "cell_type": "markdown",
   "id": "501c7398",
   "metadata": {},
   "source": [
    "-----\n",
    "* We're going to directly create a matrix <span style = font-family:times>_R_</span> made up of random integers (no floating points) from -5 to 4. We also want the matrix have 4 rows and 4 columns."
   ]
  },
  {
   "cell_type": "code",
   "execution_count": 33,
   "id": "ca1a7c92",
   "metadata": {},
   "outputs": [
    {
     "data": {
      "text/plain": [
       "array([[-2, -1,  2, -5],\n",
       "       [-2, -5, -5,  0],\n",
       "       [ 3, -2, -4,  0],\n",
       "       [-3,  1,  0, -4]])"
      ]
     },
     "execution_count": 33,
     "metadata": {},
     "output_type": "execute_result"
    }
   ],
   "source": [
    "R = np.random.randint(-5, 4, size = (4, 4))\n",
    "R"
   ]
  },
  {
   "cell_type": "code",
   "execution_count": null,
   "id": "9742f4cd",
   "metadata": {},
   "outputs": [],
   "source": []
  },
  {
   "attachments": {},
   "cell_type": "markdown",
   "id": "10724f1f-15fc-4999-b1d2-0b60b3d26c10",
   "metadata": {
    "tags": []
   },
   "source": [
    "Green\n",
    "<br>\n",
    "__========================================================================__\n",
    "##### __Selecting Specific Entry of a Matrix__ \n",
    "-----\n",
    "* The codes below allow you to select a specific entry within a given matrix.\n",
    "  * The index goes from 0, 1, 2, 3...\n",
    "  <br><br>\n",
    "  -----\n",
    "* Let's start printing out the matrix <span style = font-family:time>_M_</span>"
   ]
  },
  {
   "cell_type": "code",
   "execution_count": 35,
   "id": "b419cd06",
   "metadata": {},
   "outputs": [
    {
     "data": {
      "text/plain": [
       "array([[  0.,   5.,  10.,  15.,  20.],\n",
       "       [ 25.,  30.,  35.,  40.,  45.],\n",
       "       [ 50.,  55.,  60.,  65.,  70.],\n",
       "       [ 75.,  80.,  85.,  90.,  95.],\n",
       "       [100., 105., 110., 115., 120.]])"
      ]
     },
     "execution_count": 35,
     "metadata": {},
     "output_type": "execute_result"
    }
   ],
   "source": [
    "M"
   ]
  },
  {
   "attachments": {},
   "cell_type": "markdown",
   "id": "9e324093",
   "metadata": {},
   "source": [
    "  -----\n",
    "* This code prints the first row.\n",
    "  * Remember that 0 is the first number of our index because Python\n"
   ]
  },
  {
   "cell_type": "code",
   "execution_count": 36,
   "id": "4f7da8bf",
   "metadata": {},
   "outputs": [
    {
     "data": {
      "text/plain": [
       "array([ 0.,  5., 10., 15., 20.])"
      ]
     },
     "execution_count": 36,
     "metadata": {},
     "output_type": "execute_result"
    }
   ],
   "source": [
    "M[0]"
   ]
  },
  {
   "attachments": {},
   "cell_type": "markdown",
   "id": "3fc1885e",
   "metadata": {},
   "source": [
    "  -----\n",
    "* This code prints the fifth row\n",
    "  * Remember that 4 is the fifth number of our index"
   ]
  },
  {
   "cell_type": "code",
   "execution_count": 45,
   "id": "8323c7ef",
   "metadata": {},
   "outputs": [
    {
     "data": {
      "text/plain": [
       "array([100., 105., 110., 115., 120.])"
      ]
     },
     "execution_count": 45,
     "metadata": {},
     "output_type": "execute_result"
    }
   ],
   "source": [
    "M[4]"
   ]
  },
  {
   "attachments": {},
   "cell_type": "markdown",
   "id": "49472988",
   "metadata": {},
   "source": [
    "  -----\n",
    "* This code also prints the fifth row. \n",
    "  * It's actually just printing the last row, so if we had 6 rows, it would print the sixth one."
   ]
  },
  {
   "cell_type": "code",
   "execution_count": 47,
   "id": "f8cda90d",
   "metadata": {},
   "outputs": [
    {
     "data": {
      "text/plain": [
       "array([100., 105., 110., 115., 120.])"
      ]
     },
     "execution_count": 47,
     "metadata": {},
     "output_type": "execute_result"
    }
   ],
   "source": [
    "M[-1]"
   ]
  },
  {
   "attachments": {},
   "cell_type": "markdown",
   "id": "7f76abee",
   "metadata": {},
   "source": [
    "  -----\n",
    "* To pull up the first column, use the code below\n",
    "  * Since rows are always the first parameter, we us __:__ to indicate that we still want to return all the row values. We put in a comma to indicate that we want columns, since that's the second parameter."
   ]
  },
  {
   "cell_type": "code",
   "execution_count": 39,
   "id": "ef8b0b52",
   "metadata": {},
   "outputs": [
    {
     "data": {
      "text/plain": [
       "array([  0.,  25.,  50.,  75., 100.])"
      ]
     },
     "execution_count": 39,
     "metadata": {},
     "output_type": "execute_result"
    }
   ],
   "source": [
    "M[:, 0]"
   ]
  },
  {
   "attachments": {},
   "cell_type": "markdown",
   "id": "8f5765c3",
   "metadata": {},
   "source": [
    "  -----\n",
    "* Instead of using __:__ as a wild card call for all row values, we can limit to a specific range.\n",
    "  * The code below pulls up all the row values from rows 0-5 for the first column"
   ]
  },
  {
   "cell_type": "code",
   "execution_count": 40,
   "id": "b41a6311",
   "metadata": {},
   "outputs": [
    {
     "data": {
      "text/plain": [
       "array([  0.,  25.,  50.,  75., 100.])"
      ]
     },
     "execution_count": 40,
     "metadata": {},
     "output_type": "execute_result"
    }
   ],
   "source": [
    "M[0:5, 0]"
   ]
  },
  {
   "attachments": {},
   "cell_type": "markdown",
   "id": "a32fefc0",
   "metadata": {},
   "source": [
    "  -----\n",
    "* The code below pulls up all the row values for rows 0-3 in columns 1-4."
   ]
  },
  {
   "cell_type": "code",
   "execution_count": 41,
   "id": "41787322",
   "metadata": {},
   "outputs": [
    {
     "data": {
      "text/plain": [
       "array([[ 5., 10., 15.],\n",
       "       [30., 35., 40.],\n",
       "       [55., 60., 65.]])"
      ]
     },
     "execution_count": 41,
     "metadata": {},
     "output_type": "execute_result"
    }
   ],
   "source": [
    "M[0:3, 1:4]"
   ]
  },
  {
   "cell_type": "code",
   "execution_count": null,
   "id": "003898d0",
   "metadata": {},
   "outputs": [],
   "source": []
  },
  {
   "attachments": {},
   "cell_type": "markdown",
   "id": "249b4f3f",
   "metadata": {},
   "source": [
    "<br><br>"
   ]
  },
  {
   "cell_type": "code",
   "execution_count": null,
   "id": "7fa96a2f",
   "metadata": {},
   "outputs": [],
   "source": []
  }
 ],
 "metadata": {
  "kernelspec": {
   "display_name": "Python 3 (ipykernel)",
   "language": "python",
   "name": "python3"
  },
  "language_info": {
   "codemirror_mode": {
    "name": "ipython",
    "version": 3
   },
   "file_extension": ".py",
   "mimetype": "text/x-python",
   "name": "python",
   "nbconvert_exporter": "python",
   "pygments_lexer": "ipython3",
   "version": "3.10.4"
  }
 },
 "nbformat": 4,
 "nbformat_minor": 5
}
