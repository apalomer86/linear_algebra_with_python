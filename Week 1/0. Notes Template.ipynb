{
 "cells": [
  {
   "cell_type": "markdown",
   "id": "1a069ce0-6126-41a1-866b-1b5a6f3afed5",
   "metadata": {},
   "source": [
    "### __TITLE__ \n",
    "__===========================================================================__"
   ]
  },
  {
   "cell_type": "markdown",
   "id": "3fd5b0d1-3d76-490b-bfad-2a6a59fc69b3",
   "metadata": {
    "tags": []
   },
   "source": [
    "Red\n",
    "__===========================================================================__\n",
    "#### __Red Box Title__ \n",
    "-----\n",
    "* Bullet 1\n",
    "* Bullet 2\n",
    "  * Bullet 2a\n",
    "  * Bullet 2b"
   ]
  },
  {
   "cell_type": "markdown",
   "id": "3f1b9ed1-2c99-4763-a070-15337fb865cd",
   "metadata": {},
   "source": [
    "---------------------------------------------------------"
   ]
  },
  {
   "cell_type": "code",
   "execution_count": 2,
   "id": "119c8b55-b66e-4639-9306-7f27e85d8291",
   "metadata": {
    "tags": []
   },
   "outputs": [
    {
     "name": "stdout",
     "output_type": "stream",
     "text": [
      "insert code here\n"
     ]
    }
   ],
   "source": [
    "print(\"insert code here\")"
   ]
  },
  {
   "cell_type": "markdown",
   "id": "175f0d16-7c18-453e-ab69-83a08ae2cd88",
   "metadata": {},
   "source": [
    "<br><br>"
   ]
  },
  {
   "cell_type": "markdown",
   "id": "603d73c3-bbdc-4a81-979f-fa3d6acfd3a1",
   "metadata": {
    "tags": []
   },
   "source": [
    "Orange\n",
    "__===========================================================================__\n",
    "#### __Orange Box Title__ \n",
    "-----\n",
    "* Bullet 1\n",
    "* Bullet 2\n",
    "  * Bullet 2a\n",
    "  * Bullet 2b"
   ]
  },
  {
   "cell_type": "markdown",
   "id": "909fe3ef-c5f9-4052-ab8f-6c92b5639523",
   "metadata": {},
   "source": [
    "---------------------------------------------------------"
   ]
  },
  {
   "cell_type": "code",
   "execution_count": 2,
   "id": "0f41760c-aa5b-430a-995e-608f53becde5",
   "metadata": {
    "tags": []
   },
   "outputs": [
    {
     "name": "stdout",
     "output_type": "stream",
     "text": [
      "insert code here\n"
     ]
    }
   ],
   "source": [
    "print(\"insert code here\")"
   ]
  },
  {
   "cell_type": "markdown",
   "id": "c1d67c60-c031-41ca-96ef-5e589ff1c3c4",
   "metadata": {},
   "source": [
    "<br><br>"
   ]
  },
  {
   "cell_type": "markdown",
   "id": "ce01494b-9443-41a4-b6f2-92152baf572b",
   "metadata": {
    "tags": []
   },
   "source": [
    "Yellow\n",
    "__===========================================================================__\n",
    "#### __Yellow Box Title__ \n",
    "-----\n",
    "* Bullet 1\n",
    "* Bullet 2\n",
    "  * Bullet 2a\n",
    "  * Bullet 2b"
   ]
  },
  {
   "cell_type": "markdown",
   "id": "6b9252b5-21d2-44c5-b205-ade443902a4a",
   "metadata": {},
   "source": [
    "---------------------------------------------------------"
   ]
  },
  {
   "cell_type": "code",
   "execution_count": 2,
   "id": "7998e93c-efc5-435e-a163-707d1446a4cf",
   "metadata": {
    "tags": []
   },
   "outputs": [
    {
     "name": "stdout",
     "output_type": "stream",
     "text": [
      "insert code here\n"
     ]
    }
   ],
   "source": [
    "print(\"insert code here\")"
   ]
  },
  {
   "cell_type": "markdown",
   "id": "c46337dc-05bc-4293-9d3f-a861eab82d40",
   "metadata": {},
   "source": [
    "<br><br>"
   ]
  },
  {
   "cell_type": "markdown",
   "id": "10724f1f-15fc-4999-b1d2-0b60b3d26c10",
   "metadata": {
    "tags": []
   },
   "source": [
    "Green\n",
    "__===========================================================================__\n",
    "#### __Green Box Title__ \n",
    "-----\n",
    "* Bullet 1\n",
    "* Bullet 2\n",
    "  * Bullet 2a\n",
    "  * Bullet 2b"
   ]
  },
  {
   "cell_type": "markdown",
   "id": "e03fc6a1-8142-488b-8ed2-cdaad219544b",
   "metadata": {},
   "source": [
    "---------------------------------------------------------"
   ]
  },
  {
   "cell_type": "code",
   "execution_count": 2,
   "id": "28a8af20-8a18-48f7-a5be-870aba92ca0e",
   "metadata": {
    "tags": []
   },
   "outputs": [
    {
     "name": "stdout",
     "output_type": "stream",
     "text": [
      "insert code here\n"
     ]
    }
   ],
   "source": [
    "print(\"insert code here\")"
   ]
  },
  {
   "cell_type": "markdown",
   "id": "9f767051-39ea-4f95-8c86-1075904c0d5e",
   "metadata": {},
   "source": [
    "<br><br>"
   ]
  },
  {
   "cell_type": "markdown",
   "id": "93b7462f-2e90-4589-ac40-804d86045be1",
   "metadata": {
    "tags": []
   },
   "source": [
    "Blue\n",
    "__===========================================================================__\n",
    "#### __Blue Box Title__ \n",
    "-----\n",
    "* Bullet 1\n",
    "* Bullet 2\n",
    "  * Bullet 2a\n",
    "  * Bullet 2b"
   ]
  },
  {
   "cell_type": "markdown",
   "id": "a056aa1c-c09f-4f5b-9fc9-e0fa4a6a74c4",
   "metadata": {},
   "source": [
    "---------------------------------------------------------"
   ]
  },
  {
   "cell_type": "code",
   "execution_count": 2,
   "id": "5e77a647-d626-4322-a45f-ba98db36d4eb",
   "metadata": {
    "tags": []
   },
   "outputs": [
    {
     "name": "stdout",
     "output_type": "stream",
     "text": [
      "insert code here\n"
     ]
    }
   ],
   "source": [
    "print(\"insert code here\")"
   ]
  },
  {
   "cell_type": "markdown",
   "id": "c941e326-aaa0-4dae-830c-da6506ef3ca0",
   "metadata": {},
   "source": [
    "<br><br>"
   ]
  },
  {
   "cell_type": "markdown",
   "id": "9837e22f-03be-4eb2-9ecd-2bfd9808e19d",
   "metadata": {
    "tags": []
   },
   "source": [
    "Purple\n",
    "__===========================================================================__\n",
    "#### __Purple Box Title__ \n",
    "-----\n",
    "* Bullet 1\n",
    "* Bullet 2\n",
    "  * Bullet 2a\n",
    "  * Bullet 2b"
   ]
  },
  {
   "cell_type": "markdown",
   "id": "05fff067-8af3-4cd7-9d23-ff6e20a6712d",
   "metadata": {},
   "source": [
    "---------------------------------------------------------"
   ]
  },
  {
   "cell_type": "code",
   "execution_count": 2,
   "id": "95d45cd1-35b6-4581-812a-fbed31d3694b",
   "metadata": {
    "tags": []
   },
   "outputs": [
    {
     "name": "stdout",
     "output_type": "stream",
     "text": [
      "insert code here\n"
     ]
    }
   ],
   "source": [
    "print(\"insert code here\")"
   ]
  },
  {
   "cell_type": "markdown",
   "id": "4b495682-eb77-4df0-b1a5-6bdecc9f4f8f",
   "metadata": {},
   "source": [
    "<br><br>"
   ]
  }
 ],
 "metadata": {
  "kernelspec": {
   "display_name": "Python 3 (ipykernel)",
   "language": "python",
   "name": "python3"
  },
  "language_info": {
   "codemirror_mode": {
    "name": "ipython",
    "version": 3
   },
   "file_extension": ".py",
   "mimetype": "text/x-python",
   "name": "python",
   "nbconvert_exporter": "python",
   "pygments_lexer": "ipython3",
   "version": "3.10.4"
  }
 },
 "nbformat": 4,
 "nbformat_minor": 5
}
