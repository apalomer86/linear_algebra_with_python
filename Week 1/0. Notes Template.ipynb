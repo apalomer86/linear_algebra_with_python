{
 "cells": [
  {
   "cell_type": "markdown",
   "id": "e0fed340-34eb-4c3b-812d-fee9c2fad7e6",
   "metadata": {},
   "source": [
    "### __Title__ "
   ]
  },
  {
   "cell_type": "markdown",
   "id": "ac0d6e6b-1947-445f-9c86-4a97a73df1fd",
   "metadata": {},
   "source": [
    "#### __Colored Box Title__ "
   ]
  },
  {
   "cell_type": "code",
   "execution_count": 1,
   "id": "b8677851-d050-46b8-b86e-acd5d25c11ee",
   "metadata": {
    "tags": []
   },
   "outputs": [
    {
     "name": "stdout",
     "output_type": "stream",
     "text": [
      "insert code here\n"
     ]
    }
   ],
   "source": [
    "print(\"insert code here\")"
   ]
  },
  {
   "cell_type": "markdown",
   "id": "3f1b9ed1-2c99-4763-a070-15337fb865cd",
   "metadata": {},
   "source": [
    "---------------------------------------------------------"
   ]
  },
  {
   "cell_type": "markdown",
   "id": "ae023560-03bf-4e5f-ad0f-5c89efb7e216",
   "metadata": {},
   "source": [
    "* Bullet 1\n",
    "* Bullet 2\n",
    "  * Bullet 2a\n",
    "  * Bullet 2b\n",
    "* Bullet 3"
   ]
  },
  {
   "cell_type": "code",
   "execution_count": 2,
   "id": "119c8b55-b66e-4639-9306-7f27e85d8291",
   "metadata": {
    "tags": []
   },
   "outputs": [
    {
     "name": "stdout",
     "output_type": "stream",
     "text": [
      "insert code here\n"
     ]
    }
   ],
   "source": [
    "print(\"insert code here\")"
   ]
  },
  {
   "cell_type": "markdown",
   "id": "175f0d16-7c18-453e-ab69-83a08ae2cd88",
   "metadata": {},
   "source": [
    "<br><br>"
   ]
  },
  {
   "cell_type": "markdown",
   "id": "ba109178-f029-4e49-bb00-e19ec9cc4012",
   "metadata": {},
   "source": [
    "#### __Colored Box Title__ "
   ]
  },
  {
   "cell_type": "markdown",
   "id": "ec050cf3-be87-4086-8fe6-89797b90b9fb",
   "metadata": {},
   "source": [
    "* Bullet 1\n",
    "* Bullet 2\n",
    "  * Bullet 2a\n",
    "  * Bullet 2b\n",
    "* Bullet 3"
   ]
  },
  {
   "cell_type": "code",
   "execution_count": 3,
   "id": "cf57b18e-292f-4e6d-a132-78bc72a66edd",
   "metadata": {
    "tags": []
   },
   "outputs": [
    {
     "name": "stdout",
     "output_type": "stream",
     "text": [
      "insert code here\n"
     ]
    }
   ],
   "source": [
    "print(\"insert code here\")"
   ]
  },
  {
   "cell_type": "markdown",
   "id": "f38de21f-011a-48a8-89ee-4bfd7a2470d8",
   "metadata": {},
   "source": [
    "---------------------------------------------------------"
   ]
  },
  {
   "cell_type": "markdown",
   "id": "1bb9fa4d-7c68-4ddf-bbff-a0ef4d52dc3a",
   "metadata": {},
   "source": [
    "* Bullet 1\n",
    "* Bullet 2\n",
    "  * Bullet 2a\n",
    "  * Bullet 2b\n",
    "* Bullet 3"
   ]
  },
  {
   "cell_type": "code",
   "execution_count": 4,
   "id": "e25e87b7-4f05-48da-a039-f7a05b8d2b83",
   "metadata": {
    "tags": []
   },
   "outputs": [
    {
     "name": "stdout",
     "output_type": "stream",
     "text": [
      "insert code here\n"
     ]
    }
   ],
   "source": [
    "print(\"insert code here\")"
   ]
  },
  {
   "cell_type": "markdown",
   "id": "3ca9d453-5d20-402b-a980-a0f1eab8b6c1",
   "metadata": {},
   "source": [
    "<br><br>"
   ]
  },
  {
   "cell_type": "markdown",
   "id": "43595f38-9b50-4d2d-b837-e28818d9ec10",
   "metadata": {},
   "source": [
    "### __Title__ "
   ]
  },
  {
   "cell_type": "markdown",
   "id": "9bdaba5d-ae69-470a-a97a-80789e98f35c",
   "metadata": {},
   "source": [
    "#### __Colored Box Title__ "
   ]
  },
  {
   "cell_type": "markdown",
   "id": "aaabbde2-a346-4a6f-acc4-87461da14b29",
   "metadata": {},
   "source": [
    "* Bullet 1\n",
    "* Bullet 2\n",
    "  * Bullet 2a\n",
    "  * Bullet 2b\n",
    "* Bullet 3"
   ]
  },
  {
   "cell_type": "code",
   "execution_count": 5,
   "id": "2124a6ea-b412-48ad-9334-597fbc2021c4",
   "metadata": {
    "tags": []
   },
   "outputs": [
    {
     "name": "stdout",
     "output_type": "stream",
     "text": [
      "insert code here\n"
     ]
    }
   ],
   "source": [
    "print(\"insert code here\")"
   ]
  },
  {
   "cell_type": "markdown",
   "id": "f96a1bd4-e170-46c5-a7cc-7ea058c9fde3",
   "metadata": {},
   "source": [
    "---------------------------------------------------------"
   ]
  },
  {
   "cell_type": "markdown",
   "id": "7cb32b27-1bba-4823-8387-da9170e67aff",
   "metadata": {},
   "source": [
    "* Bullet 1\n",
    "* Bullet 2\n",
    "  * Bullet 2a\n",
    "  * Bullet 2b\n",
    "* Bullet 3"
   ]
  },
  {
   "cell_type": "code",
   "execution_count": 6,
   "id": "907453c2-5a13-4acb-ab2b-2d52ebf3cd83",
   "metadata": {
    "tags": []
   },
   "outputs": [
    {
     "name": "stdout",
     "output_type": "stream",
     "text": [
      "insert code here\n"
     ]
    }
   ],
   "source": [
    "print(\"insert code here\")"
   ]
  },
  {
   "cell_type": "markdown",
   "id": "eca5b23c-142c-4fd4-b5a4-6c67abeb6de8",
   "metadata": {},
   "source": [
    "<br><br>"
   ]
  },
  {
   "cell_type": "markdown",
   "id": "cf1a9a07-a75f-4bfc-bcdb-97f06324012c",
   "metadata": {},
   "source": [
    "#### __Colored Box Title__ "
   ]
  },
  {
   "cell_type": "markdown",
   "id": "6e640a15-50ab-41ed-bc94-0131612962ae",
   "metadata": {},
   "source": [
    "* Bullet 1\n",
    "* Bullet 2\n",
    "  * Bullet 2a\n",
    "  * Bullet 2b\n",
    "* Bullet 3"
   ]
  },
  {
   "cell_type": "code",
   "execution_count": 7,
   "id": "19e30f60-3e02-4010-828a-251a90e32c77",
   "metadata": {
    "tags": []
   },
   "outputs": [
    {
     "name": "stdout",
     "output_type": "stream",
     "text": [
      "insert code here\n"
     ]
    }
   ],
   "source": [
    "print(\"insert code here\")"
   ]
  },
  {
   "cell_type": "markdown",
   "id": "d76ab304-ee9b-413f-89ae-fdb5c343a711",
   "metadata": {},
   "source": [
    "---------------------------------------------------------"
   ]
  },
  {
   "cell_type": "markdown",
   "id": "e643053d-9921-4e1c-9d9c-56d410662976",
   "metadata": {},
   "source": [
    "* Bullet 1\n",
    "* Bullet 2\n",
    "  * Bullet 2a\n",
    "  * Bullet 2b\n",
    "* Bullet 3"
   ]
  },
  {
   "cell_type": "code",
   "execution_count": 8,
   "id": "49d6676b-5a09-403b-b50e-b85a1e3af041",
   "metadata": {
    "tags": []
   },
   "outputs": [
    {
     "name": "stdout",
     "output_type": "stream",
     "text": [
      "insert code here\n"
     ]
    }
   ],
   "source": [
    "print(\"insert code here\")"
   ]
  }
 ],
 "metadata": {
  "kernelspec": {
   "display_name": "Python 3 (ipykernel)",
   "language": "python",
   "name": "python3"
  },
  "language_info": {
   "codemirror_mode": {
    "name": "ipython",
    "version": 3
   },
   "file_extension": ".py",
   "mimetype": "text/x-python",
   "name": "python",
   "nbconvert_exporter": "python",
   "pygments_lexer": "ipython3",
   "version": "3.10.4"
  }
 },
 "nbformat": 4,
 "nbformat_minor": 5
}
