{
 "cells": [
  {
   "cell_type": "markdown",
   "id": "1a069ce0-6126-41a1-866b-1b5a6f3afed5",
   "metadata": {
    "tags": []
   },
   "source": [
    "### __INTRODUCTION__ \n",
    "__===========================================================================__"
   ]
  },
  {
   "cell_type": "markdown",
   "id": "3fd5b0d1-3d76-490b-bfad-2a6a59fc69b3",
   "metadata": {
    "tags": []
   },
   "source": [
    "Red\n",
    "__===========================================================================__\n",
    "#### __Leraning Objectives__ \n",
    "-----\n",
    "* In this lesson you will learn how to:\n",
    "  * Use four different graphs to plot data"
   ]
  },
  {
   "cell_type": "markdown",
   "id": "175f0d16-7c18-453e-ab69-83a08ae2cd88",
   "metadata": {},
   "source": [
    "<br><br>"
   ]
  },
  {
   "cell_type": "markdown",
   "id": "603d73c3-bbdc-4a81-979f-fa3d6acfd3a1",
   "metadata": {
    "tags": []
   },
   "source": [
    "Orange\n",
    "__===========================================================================__\n",
    "#### __Lesson Overivew__ \n",
    "-----\n",
    "* Styles\n",
    "* Histogram\n",
    "* Boxplot\n",
    "* Line width"
   ]
  },
  {
   "cell_type": "markdown",
   "id": "c1d67c60-c031-41ca-96ef-5e589ff1c3c4",
   "metadata": {},
   "source": [
    "<br><br>"
   ]
  },
  {
   "cell_type": "markdown",
   "id": "49afdd52-fd48-408f-bc6f-3f1b8430ecad",
   "metadata": {
    "tags": []
   },
   "source": [
    "### __USE GRAPHS IN PYTHON TO MODEL DATA: PART 2__ \n",
    "__===========================================================================__"
   ]
  },
  {
   "cell_type": "markdown",
   "id": "ce01494b-9443-41a4-b6f2-92152baf572b",
   "metadata": {
    "tags": []
   },
   "source": [
    "Yellow\n",
    "__===========================================================================__\n",
    "#### __Styles__ \n",
    "-----\n",
    "* Before we begin, import the necessary libraries\n",
    "  * __pandas__ as __pd__\n",
    "  * __matplotlib.pyplot__ as __plt__\n",
    "  * __numpy__ as __np__"
   ]
  },
  {
   "cell_type": "code",
   "execution_count": 1,
   "id": "145e81c5-3546-444a-9a03-92fb36c8cbf8",
   "metadata": {
    "tags": []
   },
   "outputs": [],
   "source": [
    "import pandas as pd\n",
    "import matplotlib.pyplot as plt\n",
    "import numpy as np\n",
    "%matplotlib inline"
   ]
  },
  {
   "cell_type": "markdown",
   "id": "9de36a46-72ba-42b6-8c65-ab260d05ef93",
   "metadata": {},
   "source": [
    "-----\n",
    "* Use the code below to list all the available styles in matplotlib"
   ]
  },
  {
   "cell_type": "code",
   "execution_count": 2,
   "id": "7998e93c-efc5-435e-a163-707d1446a4cf",
   "metadata": {
    "tags": []
   },
   "outputs": [
    {
     "data": {
      "text/plain": [
       "['Solarize_Light2',\n",
       " '_classic_test_patch',\n",
       " '_mpl-gallery',\n",
       " '_mpl-gallery-nogrid',\n",
       " 'bmh',\n",
       " 'classic',\n",
       " 'dark_background',\n",
       " 'fast',\n",
       " 'fivethirtyeight',\n",
       " 'ggplot',\n",
       " 'grayscale',\n",
       " 'seaborn-v0_8',\n",
       " 'seaborn-v0_8-bright',\n",
       " 'seaborn-v0_8-colorblind',\n",
       " 'seaborn-v0_8-dark',\n",
       " 'seaborn-v0_8-dark-palette',\n",
       " 'seaborn-v0_8-darkgrid',\n",
       " 'seaborn-v0_8-deep',\n",
       " 'seaborn-v0_8-muted',\n",
       " 'seaborn-v0_8-notebook',\n",
       " 'seaborn-v0_8-paper',\n",
       " 'seaborn-v0_8-pastel',\n",
       " 'seaborn-v0_8-poster',\n",
       " 'seaborn-v0_8-talk',\n",
       " 'seaborn-v0_8-ticks',\n",
       " 'seaborn-v0_8-white',\n",
       " 'seaborn-v0_8-whitegrid',\n",
       " 'tableau-colorblind10']"
      ]
     },
     "execution_count": 2,
     "metadata": {},
     "output_type": "execute_result"
    }
   ],
   "source": [
    "plt.style.available"
   ]
  },
  {
   "cell_type": "markdown",
   "id": "fd2c4857-478f-4e22-be26-2e0d7f3a4833",
   "metadata": {},
   "source": [
    "------\n",
    "* We're going to settle on using the style __seaborn-whitegrid__, so import it\n",
    "* We're also going to be using the __titanic_train__ .CSV file so let's insert code to read it as as __titanic_df__ \n",
    "  * We're also going to be altering some values within these columns to make our graph easier to read\n",
    "  * We'll also sort the data by the column __Pclass__ in ascending order to make the graphs easier to read later"
   ]
  },
  {
   "cell_type": "code",
   "execution_count": 3,
   "id": "51ac2c7b-ef7f-431f-81b0-a9782d251604",
   "metadata": {
    "tags": []
   },
   "outputs": [],
   "source": [
    "import seaborn as sns\n",
    "plt.style.use('seaborn-v0_8-whitegrid')"
   ]
  },
  {
   "cell_type": "code",
   "execution_count": 4,
   "id": "1a01c408-ad11-4496-98f6-c277b8a85d1a",
   "metadata": {
    "tags": []
   },
   "outputs": [
    {
     "data": {
      "text/html": [
       "<div>\n",
       "<style scoped>\n",
       "    .dataframe tbody tr th:only-of-type {\n",
       "        vertical-align: middle;\n",
       "    }\n",
       "\n",
       "    .dataframe tbody tr th {\n",
       "        vertical-align: top;\n",
       "    }\n",
       "\n",
       "    .dataframe thead th {\n",
       "        text-align: right;\n",
       "    }\n",
       "</style>\n",
       "<table border=\"1\" class=\"dataframe\">\n",
       "  <thead>\n",
       "    <tr style=\"text-align: right;\">\n",
       "      <th></th>\n",
       "      <th>PassengerId</th>\n",
       "      <th>Survived</th>\n",
       "      <th>Pclass</th>\n",
       "      <th>Name</th>\n",
       "      <th>Sex</th>\n",
       "      <th>Age</th>\n",
       "      <th>SibSp</th>\n",
       "      <th>Parch</th>\n",
       "      <th>Ticket</th>\n",
       "      <th>Fare</th>\n",
       "      <th>Cabin</th>\n",
       "      <th>Embarked</th>\n",
       "    </tr>\n",
       "  </thead>\n",
       "  <tbody>\n",
       "    <tr>\n",
       "      <th>445</th>\n",
       "      <td>446</td>\n",
       "      <td>Lived</td>\n",
       "      <td>1st</td>\n",
       "      <td>Dodge, Master. Washington</td>\n",
       "      <td>male</td>\n",
       "      <td>4.0</td>\n",
       "      <td>0</td>\n",
       "      <td>2</td>\n",
       "      <td>33638</td>\n",
       "      <td>81.8583</td>\n",
       "      <td>A34</td>\n",
       "      <td>S</td>\n",
       "    </tr>\n",
       "    <tr>\n",
       "      <th>310</th>\n",
       "      <td>311</td>\n",
       "      <td>Lived</td>\n",
       "      <td>1st</td>\n",
       "      <td>Hays, Miss. Margaret Bechstein</td>\n",
       "      <td>female</td>\n",
       "      <td>24.0</td>\n",
       "      <td>0</td>\n",
       "      <td>0</td>\n",
       "      <td>11767</td>\n",
       "      <td>83.1583</td>\n",
       "      <td>C54</td>\n",
       "      <td>C</td>\n",
       "    </tr>\n",
       "    <tr>\n",
       "      <th>309</th>\n",
       "      <td>310</td>\n",
       "      <td>Lived</td>\n",
       "      <td>1st</td>\n",
       "      <td>Francatelli, Miss. Laura Mabel</td>\n",
       "      <td>female</td>\n",
       "      <td>30.0</td>\n",
       "      <td>0</td>\n",
       "      <td>0</td>\n",
       "      <td>PC 17485</td>\n",
       "      <td>56.9292</td>\n",
       "      <td>E36</td>\n",
       "      <td>C</td>\n",
       "    </tr>\n",
       "    <tr>\n",
       "      <th>307</th>\n",
       "      <td>308</td>\n",
       "      <td>Lived</td>\n",
       "      <td>1st</td>\n",
       "      <td>Penasco y Castellana, Mrs. Victor de Satode (M...</td>\n",
       "      <td>female</td>\n",
       "      <td>17.0</td>\n",
       "      <td>1</td>\n",
       "      <td>0</td>\n",
       "      <td>PC 17758</td>\n",
       "      <td>108.9000</td>\n",
       "      <td>C65</td>\n",
       "      <td>C</td>\n",
       "    </tr>\n",
       "    <tr>\n",
       "      <th>306</th>\n",
       "      <td>307</td>\n",
       "      <td>Lived</td>\n",
       "      <td>1st</td>\n",
       "      <td>Fleming, Miss. Margaret</td>\n",
       "      <td>female</td>\n",
       "      <td>NaN</td>\n",
       "      <td>0</td>\n",
       "      <td>0</td>\n",
       "      <td>17421</td>\n",
       "      <td>110.8833</td>\n",
       "      <td>NaN</td>\n",
       "      <td>C</td>\n",
       "    </tr>\n",
       "  </tbody>\n",
       "</table>\n",
       "</div>"
      ],
      "text/plain": [
       "     PassengerId Survived Pclass   \n",
       "445          446    Lived    1st  \\\n",
       "310          311    Lived    1st   \n",
       "309          310    Lived    1st   \n",
       "307          308    Lived    1st   \n",
       "306          307    Lived    1st   \n",
       "\n",
       "                                                  Name     Sex   Age  SibSp   \n",
       "445                          Dodge, Master. Washington    male   4.0      0  \\\n",
       "310                     Hays, Miss. Margaret Bechstein  female  24.0      0   \n",
       "309                     Francatelli, Miss. Laura Mabel  female  30.0      0   \n",
       "307  Penasco y Castellana, Mrs. Victor de Satode (M...  female  17.0      1   \n",
       "306                            Fleming, Miss. Margaret  female   NaN      0   \n",
       "\n",
       "     Parch    Ticket      Fare Cabin Embarked  \n",
       "445      2     33638   81.8583   A34        S  \n",
       "310      0     11767   83.1583   C54        C  \n",
       "309      0  PC 17485   56.9292   E36        C  \n",
       "307      0  PC 17758  108.9000   C65        C  \n",
       "306      0     17421  110.8833   NaN        C  "
      ]
     },
     "execution_count": 4,
     "metadata": {},
     "output_type": "execute_result"
    }
   ],
   "source": [
    "titanic_df = pd.read_csv('titanic_train.csv')\n",
    "titanic_df = titanic_df.replace(\n",
    "    {'Survived': {0 : 'Died', 1 : 'Lived'},'Pclass' : {1 : '1st', 2 : '2nd', 3 : '3rd'}})\n",
    "titanic_df = titanic_df.sort_values(by = ['Pclass'])\n",
    "titanic_df.head()"
   ]
  },
  {
   "cell_type": "markdown",
   "id": "d04819b4-d9fa-4bb5-bb7c-32d319584041",
   "metadata": {},
   "source": [
    "------\n",
    "* Use the palette __autumn_r__ to create a countplot for __titanic_df__ indicates how many passengers lived or died according to their __Pclass__"
   ]
  },
  {
   "cell_type": "code",
   "execution_count": 9,
   "id": "f224f5f8-fa25-468d-a979-e08d13b167bf",
   "metadata": {
    "tags": []
   },
   "outputs": [
    {
     "data": {
      "text/plain": [
       "<Axes: xlabel='Survived', ylabel='count'>"
      ]
     },
     "execution_count": 9,
     "metadata": {},
     "output_type": "execute_result"
    },
    {
     "data": {
      "image/png": "[encoded data removed]",
      "text/plain": [
       "<Figure size 1000x700 with 1 Axes>"
      ]
     },
     "metadata": {},
     "output_type": "display_data"
    }
   ],
   "source": [
    "plt.figure(figsize = (10, 7))\n",
    "sns.countplot(x = 'Survived', data = titanic_df, hue = 'Pclass', palette = 'Wistia')"
   ]
  },
  {
   "cell_type": "markdown",
   "id": "c46337dc-05bc-4293-9d3f-a861eab82d40",
   "metadata": {},
   "source": [
    "<br><br>"
   ]
  },
  {
   "cell_type": "markdown",
   "id": "10724f1f-15fc-4999-b1d2-0b60b3d26c10",
   "metadata": {
    "tags": []
   },
   "source": [
    "Green\n",
    "__===========================================================================__\n",
    "#### __Histogram__ \n",
    "-----\n",
    "* The code below creates a historgram using the column __Age__ from the dataset __titanic_df__ that shows all the passengers aboard the Titanic according to age.\n",
    "  * Set the __linewidth__ to 2 to further separate each box of the histogram"
   ]
  },
  {
   "cell_type": "code",
   "execution_count": 6,
   "id": "28a8af20-8a18-48f7-a5be-870aba92ca0e",
   "metadata": {
    "tags": []
   },
   "outputs": [
    {
     "data": {
      "text/plain": [
       "<Axes: xlabel='Age', ylabel='Count'>"
      ]
     },
     "execution_count": 6,
     "metadata": {},
     "output_type": "execute_result"
    },
    {
     "data": {
      "image/png": "[encoded data removed]",
      "text/plain": [
       "<Figure size 800x600 with 1 Axes>"
      ]
     },
     "metadata": {},
     "output_type": "display_data"
    }
   ],
   "source": [
    "plt.figure(figsize = (8, 6))\n",
    "sns.histplot(titanic_df['Age'], color = '#b6d7a8', linewidth = 2)"
   ]
  },
  {
   "cell_type": "markdown",
   "id": "9f767051-39ea-4f95-8c86-1075904c0d5e",
   "metadata": {},
   "source": [
    "<br><br>"
   ]
  },
  {
   "cell_type": "markdown",
   "id": "93b7462f-2e90-4589-ac40-804d86045be1",
   "metadata": {
    "tags": []
   },
   "source": [
    "Blue\n",
    "__===========================================================================__\n",
    "#### __Boxplot__ \n",
    "-----\n",
    "* The code below will create a boxplot that shows the age ranges of the passengers by passenger class\n",
    "  * Set the __linewidth__ to 2 to make it pop out against the grid"
   ]
  },
  {
   "cell_type": "code",
   "execution_count": 7,
   "id": "5e77a647-d626-4322-a45f-ba98db36d4eb",
   "metadata": {
    "tags": []
   },
   "outputs": [
    {
     "data": {
      "text/plain": [
       "<Axes: xlabel='Pclass', ylabel='Age'>"
      ]
     },
     "execution_count": 7,
     "metadata": {},
     "output_type": "execute_result"
    },
    {
     "data": {
      "image/png": "[encoded data removed]",
      "text/plain": [
       "<Figure size 800x600 with 1 Axes>"
      ]
     },
     "metadata": {},
     "output_type": "display_data"
    }
   ],
   "source": [
    "plt.figure(figsize = (8, 6))\n",
    "sns.boxplot(x = 'Pclass', y = 'Age', data = titanic_df, palette = 'Blues', linewidth = 2)"
   ]
  },
  {
   "cell_type": "markdown",
   "id": "4b495682-eb77-4df0-b1a5-6bdecc9f4f8f",
   "metadata": {},
   "source": [
    "<br><br>"
   ]
  }
 ],
 "metadata": {
  "kernelspec": {
   "display_name": "Python 3 (ipykernel)",
   "language": "python",
   "name": "python3"
  },
  "language_info": {
   "codemirror_mode": {
    "name": "ipython",
    "version": 3
   },
   "file_extension": ".py",
   "mimetype": "text/x-python",
   "name": "python",
   "nbconvert_exporter": "python",
   "pygments_lexer": "ipython3",
   "version": "3.10.4"
  }
 },
 "nbformat": 4,
 "nbformat_minor": 5
}
