{
 "cells": [
  {
   "attachments": {},
   "cell_type": "markdown",
   "id": "1a069ce0-6126-41a1-866b-1b5a6f3afed5",
   "metadata": {
    "tags": []
   },
   "source": [
    "#### __LEARNING OBJECTIVES__\n",
    "-----"
   ]
  },
  {
   "attachments": {},
   "cell_type": "markdown",
   "id": "3fd5b0d1-3d76-490b-bfad-2a6a59fc69b3",
   "metadata": {
    "tags": []
   },
   "source": [
    "Red\n",
    "<br>\n",
    "__========================================================================__\n",
    "##### __Learning Objectives__ \n",
    "-----\n",
    "* In this lesson you will learn how to:\n",
    "  * Input matrices in Python\n",
    "  * Explain functions you can use in Python  "
   ]
  },
  {
   "cell_type": "code",
   "execution_count": null,
   "id": "07e91dcd",
   "metadata": {},
   "outputs": [],
   "source": []
  },
  {
   "attachments": {},
   "cell_type": "markdown",
   "id": "99d1eb32",
   "metadata": {},
   "source": [
    "<br><br>"
   ]
  },
  {
   "attachments": {},
   "cell_type": "markdown",
   "id": "db1d535b",
   "metadata": {},
   "source": [
    "#### __INTRODUCTION TO LINEAR ALGEBRA FUNCTIONS IN PYTHON__\n",
    "-----"
   ]
  },
  {
   "attachments": {},
   "cell_type": "markdown",
   "id": "603d73c3-bbdc-4a81-979f-fa3d6acfd3a1",
   "metadata": {
    "tags": []
   },
   "source": [
    "Orange\n",
    "<br>\n",
    "__========================================================================__\n",
    "##### __Introduction to Linear Algebra Function in Python__ \n",
    "-----\n",
    "* Start by importing the libraries __numpy__ and __random__. \n",
    "\n",
    "  * We'll use these to build the following:\n",
    "    * matrices _M, N,_ and _O_ \n",
    "    * vectors _v1, v2_, and _v3_\n",
    "    <br><br>\n",
    "  * Note that matrix _N_ will be composed of random integers within the specificed range and size\n"
   ]
  },
  {
   "cell_type": "code",
   "execution_count": 19,
   "id": "0f41760c-aa5b-430a-995e-608f53becde5",
   "metadata": {
    "tags": []
   },
   "outputs": [],
   "source": [
    "import numpy as np\n",
    "# numpy.linalg import multi_dot\n",
    "import random\n",
    "import sympy as sy"
   ]
  },
  {
   "cell_type": "code",
   "execution_count": 20,
   "id": "d173925a",
   "metadata": {},
   "outputs": [],
   "source": [
    "# Given the following matrices and vectors\n",
    "M = np.linspace(-8, 8, 9).reshape(3, 3)\n",
    "N = np.random.randint(-8, 8, size = (3, 3))\n",
    "O = 2*N\n",
    "v1 = np.array([1, 3, 5, 7])\n",
    "v2 = np.array([2, 4, 6, 8])\n",
    "v3 = np.array([-2, 5, 1, 3])"
   ]
  },
  {
   "cell_type": "markdown",
   "id": "1c8ed387",
   "metadata": {},
   "source": [
    "-----\n",
    "* Print each matrix and function. It'll be a bitch, but you'll need to enter them all in separate cells"
   ]
  },
  {
   "cell_type": "code",
   "execution_count": 21,
   "id": "cb1d2db1",
   "metadata": {},
   "outputs": [
    {
     "data": {
      "text/plain": [
       "array([[-8., -6., -4.],\n",
       "       [-2.,  0.,  2.],\n",
       "       [ 4.,  6.,  8.]])"
      ]
     },
     "execution_count": 21,
     "metadata": {},
     "output_type": "execute_result"
    }
   ],
   "source": [
    "M"
   ]
  },
  {
   "cell_type": "code",
   "execution_count": 22,
   "id": "a86af4fa",
   "metadata": {},
   "outputs": [
    {
     "data": {
      "text/plain": [
       "array([[-7, -4,  4],\n",
       "       [ 6,  0, -8],\n",
       "       [ 7,  0, -1]])"
      ]
     },
     "execution_count": 22,
     "metadata": {},
     "output_type": "execute_result"
    }
   ],
   "source": [
    "N"
   ]
  },
  {
   "cell_type": "code",
   "execution_count": 23,
   "id": "81cbbd16",
   "metadata": {},
   "outputs": [
    {
     "data": {
      "text/plain": [
       "array([[-14,  -8,   8],\n",
       "       [ 12,   0, -16],\n",
       "       [ 14,   0,  -2]])"
      ]
     },
     "execution_count": 23,
     "metadata": {},
     "output_type": "execute_result"
    }
   ],
   "source": [
    "O"
   ]
  },
  {
   "cell_type": "code",
   "execution_count": 24,
   "id": "b1e51535",
   "metadata": {},
   "outputs": [
    {
     "data": {
      "text/plain": [
       "array([1, 3, 5, 7])"
      ]
     },
     "execution_count": 24,
     "metadata": {},
     "output_type": "execute_result"
    }
   ],
   "source": [
    "v1"
   ]
  },
  {
   "cell_type": "code",
   "execution_count": 25,
   "id": "a0f7e6d4",
   "metadata": {},
   "outputs": [
    {
     "data": {
      "text/plain": [
       "array([2, 4, 6, 8])"
      ]
     },
     "execution_count": 25,
     "metadata": {},
     "output_type": "execute_result"
    }
   ],
   "source": [
    "v2"
   ]
  },
  {
   "cell_type": "code",
   "execution_count": 26,
   "id": "beb05739",
   "metadata": {},
   "outputs": [
    {
     "data": {
      "text/plain": [
       "array([-2,  5,  1,  3])"
      ]
     },
     "execution_count": 26,
     "metadata": {},
     "output_type": "execute_result"
    }
   ],
   "source": [
    "v3"
   ]
  },
  {
   "cell_type": "code",
   "execution_count": null,
   "id": "7648162f",
   "metadata": {},
   "outputs": [],
   "source": []
  },
  {
   "attachments": {},
   "cell_type": "markdown",
   "id": "ce01494b-9443-41a4-b6f2-92152baf572b",
   "metadata": {
    "tags": []
   },
   "source": [
    "Yellow\n",
    "<br>\n",
    "__========================================================================__\n",
    "##### __The dot() function does the product of two matrices, or two vectors__ \n",
    "-----\n",
    "* Don't confuse the __dot()__ function with the dot product or cross product from calculus. \n",
    "  * Matrix multiplication in linear algebra is its own beast, and that's what the __dot()__ function does.\n",
    "  <br><br>\n",
    "* Just like when we were printing our matrices and vectors, you'll notice that we have to do these all in separate cells. Each cell can apparently only produce one array at a time, and it will also default to the last array produced.\n",
    "  <br><br>\n",
    "* The code below shows the product of matrix N multiplied by matrix M.\n",
    "  * Yes, it goes in that order. You'll learn later that order matters when multiplying  matrices."
   ]
  },
  {
   "cell_type": "code",
   "execution_count": 27,
   "id": "7998e93c-efc5-435e-a163-707d1446a4cf",
   "metadata": {
    "tags": []
   },
   "outputs": [
    {
     "data": {
      "text/plain": [
       "array([[ 80.,  66.,  52.],\n",
       "       [-80., -84., -88.],\n",
       "       [-60., -48., -36.]])"
      ]
     },
     "execution_count": 27,
     "metadata": {},
     "output_type": "execute_result"
    }
   ],
   "source": [
    "N.dot(M)"
   ]
  },
  {
   "cell_type": "code",
   "execution_count": 28,
   "id": "5fec00a3",
   "metadata": {},
   "outputs": [
    {
     "data": {
      "text/plain": [
       "100"
      ]
     },
     "execution_count": 28,
     "metadata": {},
     "output_type": "execute_result"
    }
   ],
   "source": [
    "v1.dot(v2)"
   ]
  },
  {
   "attachments": {},
   "cell_type": "markdown",
   "id": "f5f5bb95",
   "metadata": {},
   "source": [
    "-----\n",
    "* Just to retierate that order matters, see how you get a completely different matrix and you go the other way around.\n",
    "  <br><br>\n",
    "* Wait why didn't the switched order affect the vector multiplication?\n",
    "  * Both vectors only have 1 row, so that's less room to change things. The matrices above had 3 rows."
   ]
  },
  {
   "cell_type": "code",
   "execution_count": 29,
   "id": "9742f4cd",
   "metadata": {},
   "outputs": [
    {
     "data": {
      "text/plain": [
       "array([[ -8.,  32.,  20.],\n",
       "       [ 28.,   8., -10.],\n",
       "       [ 64., -16., -40.]])"
      ]
     },
     "execution_count": 29,
     "metadata": {},
     "output_type": "execute_result"
    }
   ],
   "source": [
    "M.dot(N)"
   ]
  },
  {
   "cell_type": "code",
   "execution_count": 30,
   "id": "8535adb3",
   "metadata": {},
   "outputs": [
    {
     "data": {
      "text/plain": [
       "100"
      ]
     },
     "execution_count": 30,
     "metadata": {},
     "output_type": "execute_result"
    }
   ],
   "source": [
    "v2.dot(v1)"
   ]
  },
  {
   "cell_type": "code",
   "execution_count": null,
   "id": "a82b04c1",
   "metadata": {},
   "outputs": [],
   "source": []
  },
  {
   "attachments": {},
   "cell_type": "markdown",
   "id": "10724f1f-15fc-4999-b1d2-0b60b3d26c10",
   "metadata": {
    "tags": []
   },
   "source": [
    "Green\n",
    "<br>\n",
    "__========================================================================__\n",
    "##### __The multi_dot() function returns the product or two several matrices__ \n",
    "-----\n",
    "* The code below gives the product of the matrices _M, N_, and _O_"
   ]
  },
  {
   "cell_type": "code",
   "execution_count": 31,
   "id": "28a8af20-8a18-48f7-a5be-870aba92ca0e",
   "metadata": {
    "tags": []
   },
   "outputs": [
    {
     "data": {
      "text/plain": [
       "array([[  776.,    64.,  -616.],\n",
       "       [ -436.,  -224.,   116.],\n",
       "       [-1648.,  -512.,   848.]])"
      ]
     },
     "execution_count": 31,
     "metadata": {},
     "output_type": "execute_result"
    }
   ],
   "source": [
    "np.linalg.multi_dot([M, N, O])"
   ]
  },
  {
   "cell_type": "code",
   "execution_count": null,
   "id": "4f7da8bf",
   "metadata": {},
   "outputs": [],
   "source": []
  },
  {
   "attachments": {},
   "cell_type": "markdown",
   "id": "93b7462f-2e90-4589-ac40-804d86045be1",
   "metadata": {
    "tags": []
   },
   "source": [
    "Blue\n",
    "<br>\n",
    "__========================================================================__\n",
    "##### __The vdot() function returns the product of two vectors. It does not perform matrix multiplication. It should only be used for vectors.__ \n",
    "-----\n",
    "* Again, the __vdot()__ function only works with two vectors at a time. Can't do more than two, and can't do matrices.\n",
    "  * Think of like a more specialized vector-specific __dot()__ function"
   ]
  },
  {
   "cell_type": "code",
   "execution_count": 32,
   "id": "5e77a647-d626-4322-a45f-ba98db36d4eb",
   "metadata": {
    "tags": []
   },
   "outputs": [
    {
     "data": {
      "text/plain": [
       "100"
      ]
     },
     "execution_count": 32,
     "metadata": {},
     "output_type": "execute_result"
    }
   ],
   "source": [
    "np.vdot(v1, v2)"
   ]
  },
  {
   "cell_type": "code",
   "execution_count": null,
   "id": "68a3de91",
   "metadata": {},
   "outputs": [],
   "source": []
  },
  {
   "attachments": {},
   "cell_type": "markdown",
   "id": "9837e22f-03be-4eb2-9ecd-2bfd9808e19d",
   "metadata": {
    "tags": []
   },
   "source": [
    "Purple\n",
    "<br>\n",
    "__========================================================================__\n",
    "##### __The inner() function returns the inner product of two arrays__ \n",
    "-----\n",
    "* Bullet 1\n",
    "* Bullet 2\n",
    "  * Bullet 2a\n",
    "  * Bullet 2b"
   ]
  },
  {
   "cell_type": "code",
   "execution_count": 33,
   "id": "95d45cd1-35b6-4581-812a-fbed31d3694b",
   "metadata": {
    "tags": []
   },
   "outputs": [
    {
     "data": {
      "text/plain": [
       "39"
      ]
     },
     "execution_count": 33,
     "metadata": {},
     "output_type": "execute_result"
    }
   ],
   "source": [
    "np.inner(v3, v1)"
   ]
  },
  {
   "cell_type": "code",
   "execution_count": null,
   "id": "f4858fc4",
   "metadata": {},
   "outputs": [],
   "source": []
  },
  {
   "attachments": {},
   "cell_type": "markdown",
   "id": "2a05cab1",
   "metadata": {},
   "source": [
    "Red\n",
    "<br>\n",
    "__========================================================================__\n",
    "##### __The matmul() function returns the product of two matrices__ \n",
    "-----\n",
    "* __matmul()__ means matrix multiplication\n",
    "* Bullet 2\n",
    "  * Bullet 2a\n",
    "  * Bullet 2b"
   ]
  },
  {
   "cell_type": "code",
   "execution_count": 34,
   "id": "0beec94d",
   "metadata": {},
   "outputs": [
    {
     "data": {
      "text/plain": [
       "array([[ -8.,  32.,  20.],\n",
       "       [ 28.,   8., -10.],\n",
       "       [ 64., -16., -40.]])"
      ]
     },
     "execution_count": 34,
     "metadata": {},
     "output_type": "execute_result"
    }
   ],
   "source": [
    "np.matmul(M, N)"
   ]
  },
  {
   "cell_type": "code",
   "execution_count": null,
   "id": "7b11c7e9",
   "metadata": {},
   "outputs": [],
   "source": []
  },
  {
   "attachments": {},
   "cell_type": "markdown",
   "id": "dda7e561",
   "metadata": {},
   "source": [
    "Orange\n",
    "<br>\n",
    "__========================================================================__\n",
    "##### __The linalg.matrix_power(M, n) raises the square matrix M to the power of n__ \n",
    "-----\n",
    "* Bullet 1\n",
    "* Bullet 2\n",
    "  * Bullet 2a\n",
    "  * Bullet 2b"
   ]
  },
  {
   "cell_type": "code",
   "execution_count": 41,
   "id": "a0a2fb01",
   "metadata": {},
   "outputs": [
    {
     "data": {
      "text/plain": [
       "array([[-576., -432., -288.],\n",
       "       [-144.,    0.,  144.],\n",
       "       [ 288.,  432.,  576.]])"
      ]
     },
     "execution_count": 41,
     "metadata": {},
     "output_type": "execute_result"
    }
   ],
   "source": [
    "np.linalg.matrix_power(M, 3)"
   ]
  },
  {
   "cell_type": "code",
   "execution_count": null,
   "id": "81eab10e",
   "metadata": {},
   "outputs": [],
   "source": []
  },
  {
   "attachments": {},
   "cell_type": "markdown",
   "id": "65059e99",
   "metadata": {},
   "source": [
    "Yellow\n",
    "<br>\n",
    "__========================================================================__\n",
    "##### __The linalg.eig(O) returns both the eigenvalues and eigentvectors of the matrix O__ \n",
    "-----\n",
    "* Bullet 1\n",
    "* Bullet 2\n",
    "  * Bullet 2a\n",
    "  * Bullet 2b"
   ]
  },
  {
   "cell_type": "code",
   "execution_count": 43,
   "id": "9abb9561",
   "metadata": {},
   "outputs": [],
   "source": [
    "eig_vals, eig_vects = np.linalg.eig(O)"
   ]
  },
  {
   "cell_type": "code",
   "execution_count": 44,
   "id": "ecbedbc5",
   "metadata": {},
   "outputs": [
    {
     "data": {
      "text/plain": [
       "array([-11.96500478+7.65531614j, -11.96500478-7.65531614j,\n",
       "         7.93000956+0.j        ])"
      ]
     },
     "execution_count": 44,
     "metadata": {},
     "output_type": "execute_result"
    }
   ],
   "source": [
    "eig_vals"
   ]
  },
  {
   "cell_type": "code",
   "execution_count": null,
   "id": "4f8749a3",
   "metadata": {},
   "outputs": [],
   "source": []
  },
  {
   "attachments": {},
   "cell_type": "markdown",
   "id": "adbb1d2d",
   "metadata": {},
   "source": [
    "Green\n",
    "<br>\n",
    "__========================================================================__\n",
    "##### __The linalgeigh(N) returns both the eigenvalues and eigenvectors of a complex Hermitian matrix or a real symmetric matrix N__ \n",
    "-----\n",
    "* Bullet 1\n",
    "* Bullet 2\n",
    "  * Bullet 2a\n",
    "  * Bullet 2b"
   ]
  },
  {
   "cell_type": "code",
   "execution_count": 45,
   "id": "309e904b",
   "metadata": {},
   "outputs": [],
   "source": [
    "eigh_vals, eigh_vectors = np.linalg.eigh(N)"
   ]
  },
  {
   "cell_type": "code",
   "execution_count": 46,
   "id": "5d715d86",
   "metadata": {},
   "outputs": [
    {
     "data": {
      "text/plain": [
       "array([-13.55743852,  -0.44256148,   6.        ])"
      ]
     },
     "execution_count": 46,
     "metadata": {},
     "output_type": "execute_result"
    }
   ],
   "source": [
    "eigh_vals"
   ]
  },
  {
   "cell_type": "code",
   "execution_count": 47,
   "id": "4e800392",
   "metadata": {},
   "outputs": [
    {
     "data": {
      "text/plain": [
       "array([[-0.81470664,  0.05403484,  0.57735027],\n",
       "       [ 0.36055777, -0.73257406,  0.57735027],\n",
       "       [ 0.45414886,  0.67853922,  0.57735027]])"
      ]
     },
     "execution_count": 47,
     "metadata": {},
     "output_type": "execute_result"
    }
   ],
   "source": [
    "eigh_vectors"
   ]
  },
  {
   "cell_type": "code",
   "execution_count": null,
   "id": "bb18f404",
   "metadata": {},
   "outputs": [],
   "source": []
  },
  {
   "attachments": {},
   "cell_type": "markdown",
   "id": "39c5c6e8",
   "metadata": {},
   "source": [
    "Blue\n",
    "<br>\n",
    "__========================================================================__\n",
    "##### __The linalg.det(N) returns the determinant of the matrix N__ \n",
    "-----\n",
    "* Bullet 1\n",
    "* Bullet 2\n",
    "  * Bullet 2a\n",
    "  * Bullet 2b"
   ]
  },
  {
   "cell_type": "code",
   "execution_count": 48,
   "id": "c0299ac3",
   "metadata": {},
   "outputs": [
    {
     "data": {
      "text/plain": [
       "199.99999999999991"
      ]
     },
     "execution_count": 48,
     "metadata": {},
     "output_type": "execute_result"
    }
   ],
   "source": [
    "np.linalg.det(N)"
   ]
  },
  {
   "attachments": {},
   "cell_type": "markdown",
   "id": "2237ef03",
   "metadata": {},
   "source": [
    "-----\n",
    "* The __linalg.inv(N)__ returns the inverse of the matrix _N_"
   ]
  },
  {
   "cell_type": "code",
   "execution_count": 51,
   "id": "a1659e90",
   "metadata": {},
   "outputs": [
    {
     "data": {
      "text/plain": [
       "array([[-0.   , -0.02 ,  0.16 ],\n",
       "       [-0.25 , -0.105, -0.16 ],\n",
       "       [-0.   , -0.14 ,  0.12 ]])"
      ]
     },
     "execution_count": 51,
     "metadata": {},
     "output_type": "execute_result"
    }
   ],
   "source": [
    "np.linalg.inv(N)"
   ]
  },
  {
   "cell_type": "code",
   "execution_count": null,
   "id": "db524899",
   "metadata": {},
   "outputs": [],
   "source": []
  }
 ],
 "metadata": {
  "kernelspec": {
   "display_name": "Python 3 (ipykernel)",
   "language": "python",
   "name": "python3"
  },
  "language_info": {
   "codemirror_mode": {
    "name": "ipython",
    "version": 3
   },
   "file_extension": ".py",
   "mimetype": "text/x-python",
   "name": "python",
   "nbconvert_exporter": "python",
   "pygments_lexer": "ipython3",
   "version": "3.10.4"
  }
 },
 "nbformat": 4,
 "nbformat_minor": 5
}
