{
 "cells": [
  {
   "attachments": {},
   "cell_type": "markdown",
   "id": "1a069ce0-6126-41a1-866b-1b5a6f3afed5",
   "metadata": {
    "tags": []
   },
   "source": [
    "#### __LEARNING OBJECTIVES__\n",
    "-----"
   ]
  },
  {
   "attachments": {},
   "cell_type": "markdown",
   "id": "3fd5b0d1-3d76-490b-bfad-2a6a59fc69b3",
   "metadata": {
    "tags": []
   },
   "source": [
    "Red\n",
    "<br>\n",
    "__========================================================================__\n",
    "##### __Learning Objectives__ \n",
    "-----\n",
    "* In this lesson you will learn how to:\n",
    "  * Input matrices in Python\n",
    "  * Explain functions you can use in Python  "
   ]
  },
  {
   "cell_type": "code",
   "execution_count": null,
   "id": "07e91dcd",
   "metadata": {},
   "outputs": [],
   "source": []
  },
  {
   "attachments": {},
   "cell_type": "markdown",
   "id": "99d1eb32",
   "metadata": {},
   "source": [
    "<br><br>"
   ]
  },
  {
   "attachments": {},
   "cell_type": "markdown",
   "id": "db1d535b",
   "metadata": {},
   "source": [
    "#### __INTRODUCTION TO LINEAR ALGEBRA FUNCTIONS IN PYTHON__\n",
    "-----"
   ]
  },
  {
   "attachments": {},
   "cell_type": "markdown",
   "id": "603d73c3-bbdc-4a81-979f-fa3d6acfd3a1",
   "metadata": {
    "tags": []
   },
   "source": [
    "Orange\n",
    "<br>\n",
    "__========================================================================__\n",
    "##### __Introduction to Linear Algebra Function in Python__ \n",
    "-----\n",
    "* Start by importing the libraries __numpy__ and __random__. \n",
    "\n",
    "  * We'll use these to build the following:\n",
    "    * matrices <span style = 'font-family:times'>_M, N,_</span> and <span style = 'font-family:times'>_O_</span> \n",
    "    * vectors <span style = 'font-family:times'>_v1, v2_</span>, and <span style = 'font-family:times'>_v3_</span>\n",
    "    <br><br>\n",
    "    \n",
    "  * Note that matrix <span style = 'font-family:times'>_N_</span> will be composed of random integers within the specificed range and size\n"
   ]
  },
  {
   "cell_type": "code",
   "execution_count": 346,
   "id": "0f41760c-aa5b-430a-995e-608f53becde5",
   "metadata": {
    "tags": []
   },
   "outputs": [],
   "source": [
    "import numpy as np\n",
    "# numpy.linalg import multi_dot\n",
    "import random\n",
    "import sympy as sy"
   ]
  },
  {
   "cell_type": "code",
   "execution_count": 347,
   "id": "d173925a",
   "metadata": {},
   "outputs": [],
   "source": [
    "# Given the following matrices and vectors\n",
    "M = np.linspace(-8, 8, 9).reshape(3, 3)\n",
    "N = np.random.randint(-8, 8, size = (3, 3))\n",
    "O = 2*N\n",
    "v1 = np.array([1, 3, 5, 7])\n",
    "v2 = np.array([2, 4, 6, 8])\n",
    "v3 = np.array([-2, 5, 1, 3])"
   ]
  },
  {
   "attachments": {},
   "cell_type": "markdown",
   "id": "1c8ed387",
   "metadata": {},
   "source": [
    "-----\n",
    "* Print each matrix and function. It'll be a bitch, but you'll need to enter them all in separate cells\n",
    "\n",
    "  * Each cell can apparently only produce one array at a time, and it will always default to the last array the code gives as output.\n",
    "\n",
    "  * We're going to print these matrices and vectors using SymPy for easier reading  "
   ]
  },
  {
   "cell_type": "code",
   "execution_count": 348,
   "id": "cb1d2db1",
   "metadata": {},
   "outputs": [
    {
     "data": {
      "text/latex": [
       "$\\displaystyle \\left[\\begin{matrix}-8.0 & -6.0 & -4.0\\\\-2.0 & 0 & 2.0\\\\4.0 & 6.0 & 8.0\\end{matrix}\\right]$"
      ],
      "text/plain": [
       "Matrix([\n",
       "[-8.0, -6.0, -4.0],\n",
       "[-2.0,    0,  2.0],\n",
       "[ 4.0,  6.0,  8.0]])"
      ]
     },
     "execution_count": 348,
     "metadata": {},
     "output_type": "execute_result"
    }
   ],
   "source": [
    "M_sy = sy.Matrix(M)\n",
    "M_sy"
   ]
  },
  {
   "cell_type": "code",
   "execution_count": 349,
   "id": "a86af4fa",
   "metadata": {},
   "outputs": [
    {
     "data": {
      "text/latex": [
       "$\\displaystyle \\left[\\begin{matrix}-6 & -4 & 7\\\\-7 & -7 & -6\\\\4 & -7 & -1\\end{matrix}\\right]$"
      ],
      "text/plain": [
       "Matrix([\n",
       "[-6, -4,  7],\n",
       "[-7, -7, -6],\n",
       "[ 4, -7, -1]])"
      ]
     },
     "execution_count": 349,
     "metadata": {},
     "output_type": "execute_result"
    }
   ],
   "source": [
    "N_sy = sy.Matrix(N)\n",
    "N_sy"
   ]
  },
  {
   "cell_type": "code",
   "execution_count": 350,
   "id": "81cbbd16",
   "metadata": {},
   "outputs": [
    {
     "data": {
      "text/latex": [
       "$\\displaystyle \\left[\\begin{matrix}-12 & -8 & 14\\\\-14 & -14 & -12\\\\8 & -14 & -2\\end{matrix}\\right]$"
      ],
      "text/plain": [
       "Matrix([\n",
       "[-12,  -8,  14],\n",
       "[-14, -14, -12],\n",
       "[  8, -14,  -2]])"
      ]
     },
     "execution_count": 350,
     "metadata": {},
     "output_type": "execute_result"
    }
   ],
   "source": [
    "O_sy = sy.Matrix(O)\n",
    "O_sy"
   ]
  },
  {
   "cell_type": "code",
   "execution_count": 351,
   "id": "b1e51535",
   "metadata": {},
   "outputs": [
    {
     "data": {
      "text/latex": [
       "$\\displaystyle \\left[\\begin{matrix}1\\\\3\\\\5\\\\7\\end{matrix}\\right]$"
      ],
      "text/plain": [
       "Matrix([\n",
       "[1],\n",
       "[3],\n",
       "[5],\n",
       "[7]])"
      ]
     },
     "execution_count": 351,
     "metadata": {},
     "output_type": "execute_result"
    }
   ],
   "source": [
    "v1_sy = sy.Matrix(v1)\n",
    "v1_sy"
   ]
  },
  {
   "cell_type": "code",
   "execution_count": 352,
   "id": "a0f7e6d4",
   "metadata": {},
   "outputs": [
    {
     "data": {
      "text/latex": [
       "$\\displaystyle \\left[\\begin{matrix}2\\\\4\\\\6\\\\8\\end{matrix}\\right]$"
      ],
      "text/plain": [
       "Matrix([\n",
       "[2],\n",
       "[4],\n",
       "[6],\n",
       "[8]])"
      ]
     },
     "execution_count": 352,
     "metadata": {},
     "output_type": "execute_result"
    }
   ],
   "source": [
    "v2_sy = sy.Matrix(v2)\n",
    "v2_sy"
   ]
  },
  {
   "cell_type": "code",
   "execution_count": 353,
   "id": "beb05739",
   "metadata": {},
   "outputs": [
    {
     "data": {
      "text/latex": [
       "$\\displaystyle \\left[\\begin{matrix}-2\\\\5\\\\1\\\\3\\end{matrix}\\right]$"
      ],
      "text/plain": [
       "Matrix([\n",
       "[-2],\n",
       "[ 5],\n",
       "[ 1],\n",
       "[ 3]])"
      ]
     },
     "execution_count": 353,
     "metadata": {},
     "output_type": "execute_result"
    }
   ],
   "source": [
    "v3_sy = sy.Matrix(v3)\n",
    "v3_sy"
   ]
  },
  {
   "cell_type": "code",
   "execution_count": null,
   "id": "7648162f",
   "metadata": {},
   "outputs": [],
   "source": []
  },
  {
   "attachments": {},
   "cell_type": "markdown",
   "id": "ce01494b-9443-41a4-b6f2-92152baf572b",
   "metadata": {
    "tags": []
   },
   "source": [
    "Yellow\n",
    "<br>\n",
    "__========================================================================__\n",
    "##### __The dot() function does the product of two matrices, or two vectors__ \n",
    "-----\n",
    "* Don't confuse the __dot()__ function with the dot product or cross product from calculus. \n",
    "  * Matrix multiplication in linear algebra is its own beast, and that's what the __dot()__ function does.\n",
    "  <br><br><br>\n",
    "  ---\n",
    "* Just like when we were printing our matrices and vectors, you'll notice that we have to do these all in separate cells.\n",
    "  * We're also printing the _matrix_ results using SymPy for easier reading\n",
    "    * Since the product of two vectors is just a constant number, SymPy won't apply there\n",
    "  <br><br><br>\n",
    "  ---\n",
    "* The code below shows:\n",
    "\n",
    "  * the product of matrix <span style = 'font-family:times'>_N_</span> multiplied by matrix <span style = 'font-family:times'>_M_</span>.\n",
    "    * Yes, it goes in that order. You'll learn later that order matters when multiplying  matrices.\n",
    "    <br><br>\n",
    "  * the product of the vector <span style = 'font-family:times'>_v1_</span> multiplied by the vector <span style = 'font-family:times'>_v2_</span>."
   ]
  },
  {
   "cell_type": "code",
   "execution_count": 354,
   "id": "7998e93c-efc5-435e-a163-707d1446a4cf",
   "metadata": {
    "tags": []
   },
   "outputs": [
    {
     "data": {
      "text/latex": [
       "$\\displaystyle \\left[\\begin{matrix}84.0 & 78.0 & 72.0\\\\46.0 & 6.0 & -34.0\\\\-22.0 & -30.0 & -38.0\\end{matrix}\\right]$"
      ],
      "text/plain": [
       "Matrix([\n",
       "[ 84.0,  78.0,  72.0],\n",
       "[ 46.0,   6.0, -34.0],\n",
       "[-22.0, -30.0, -38.0]])"
      ]
     },
     "execution_count": 354,
     "metadata": {},
     "output_type": "execute_result"
    }
   ],
   "source": [
    "N_dot_M = N.dot(M)\n",
    "N_dot_M = sy.Matrix(N_dot_M)\n",
    "N_dot_M"
   ]
  },
  {
   "cell_type": "code",
   "execution_count": 355,
   "id": "5fec00a3",
   "metadata": {},
   "outputs": [
    {
     "data": {
      "text/plain": [
       "100"
      ]
     },
     "execution_count": 355,
     "metadata": {},
     "output_type": "execute_result"
    }
   ],
   "source": [
    "v1_dot_v2 = v1.dot(v2)\n",
    "v1_dot_v2"
   ]
  },
  {
   "attachments": {},
   "cell_type": "markdown",
   "id": "f5f5bb95",
   "metadata": {},
   "source": [
    "-----\n",
    "* Just to retierate that _order matters with matrices_, see how you get a completely different matrix wheb you go the other way around?\n",
    "  <br><br>\n",
    "* Wait why didn't the switched order affect the vector multiplication?\n",
    "  * Both vectors only have 1 row, so that's less room to change things. The matrices above had 3 rows."
   ]
  },
  {
   "cell_type": "code",
   "execution_count": 356,
   "id": "9742f4cd",
   "metadata": {},
   "outputs": [
    {
     "data": {
      "text/latex": [
       "$\\displaystyle \\left[\\begin{matrix}74.0 & 102.0 & -16.0\\\\20.0 & -6.0 & -16.0\\\\-34.0 & -114.0 & -16.0\\end{matrix}\\right]$"
      ],
      "text/plain": [
       "Matrix([\n",
       "[ 74.0,  102.0, -16.0],\n",
       "[ 20.0,   -6.0, -16.0],\n",
       "[-34.0, -114.0, -16.0]])"
      ]
     },
     "execution_count": 356,
     "metadata": {},
     "output_type": "execute_result"
    }
   ],
   "source": [
    "M_dot_N = M.dot(N)\n",
    "M_dot_N = sy.Matrix(M_dot_N)\n",
    "M_dot_N"
   ]
  },
  {
   "cell_type": "code",
   "execution_count": 357,
   "id": "8535adb3",
   "metadata": {},
   "outputs": [
    {
     "data": {
      "text/plain": [
       "100"
      ]
     },
     "execution_count": 357,
     "metadata": {},
     "output_type": "execute_result"
    }
   ],
   "source": [
    "v2.dot(v1)"
   ]
  },
  {
   "cell_type": "code",
   "execution_count": null,
   "id": "a82b04c1",
   "metadata": {},
   "outputs": [],
   "source": []
  },
  {
   "attachments": {},
   "cell_type": "markdown",
   "id": "10724f1f-15fc-4999-b1d2-0b60b3d26c10",
   "metadata": {
    "tags": []
   },
   "source": [
    "Green\n",
    "<br>\n",
    "__========================================================================__\n",
    "##### __The multi_dot() function returns the product or two several matrices__ \n",
    "-----\n",
    "* The code below gives the product of the matrices <span style = 'font-family:times'>_M, N_</span>, and <span style = 'font-family:times'>_O_</span>\n",
    "\n",
    "* If you try to multiply all three of these matrices using the __dot()__ function, you'll just get an error"
   ]
  },
  {
   "cell_type": "code",
   "execution_count": 358,
   "id": "28a8af20-8a18-48f7-a5be-870aba92ca0e",
   "metadata": {
    "tags": []
   },
   "outputs": [
    {
     "data": {
      "text/latex": [
       "$\\displaystyle \\left[\\begin{matrix}-2444.0 & -1796.0 & -156.0\\\\-284.0 & 148.0 & 384.0\\\\1876.0 & 2092.0 & 924.0\\end{matrix}\\right]$"
      ],
      "text/plain": [
       "Matrix([\n",
       "[-2444.0, -1796.0, -156.0],\n",
       "[ -284.0,   148.0,  384.0],\n",
       "[ 1876.0,  2092.0,  924.0]])"
      ]
     },
     "execution_count": 358,
     "metadata": {},
     "output_type": "execute_result"
    }
   ],
   "source": [
    "multi_dot_MNO = np.linalg.multi_dot([M, N, O])\n",
    "multi_dot_MNO = sy.Matrix(multi_dot_MNO)\n",
    "multi_dot_MNO"
   ]
  },
  {
   "attachments": {},
   "cell_type": "markdown",
   "id": "66a794d0",
   "metadata": {},
   "source": [
    "-----\n",
    "* If you just try to chain the __dot()__ functions, you'll get a zero matrix, which obviously can't be correct."
   ]
  },
  {
   "cell_type": "code",
   "execution_count": 359,
   "id": "846e6b35",
   "metadata": {},
   "outputs": [
    {
     "data": {
      "text/latex": [
       "$\\displaystyle \\left[\\begin{matrix}0 & 0 & 0\\\\0 & 0 & 0\\\\0 & 0 & 0\\end{matrix}\\right]$"
      ],
      "text/plain": [
       "Matrix([\n",
       "[0, 0, 0],\n",
       "[0, 0, 0],\n",
       "[0, 0, 0]])"
      ]
     },
     "execution_count": 359,
     "metadata": {},
     "output_type": "execute_result"
    }
   ],
   "source": [
    "M_dot_N_dot_O = M.dot(N).dot(0)\n",
    "M_dot_N_dot_O = sy.Matrix(M_dot_N_dot_O)\n",
    "M_dot_N_dot_O"
   ]
  },
  {
   "attachments": {},
   "cell_type": "markdown",
   "id": "99b59224",
   "metadata": {},
   "source": [
    "-----\n",
    "* If you REALLY wanted to use __dot()__ instead of multidot() you'l have to do it one line at a time"
   ]
  },
  {
   "cell_type": "code",
   "execution_count": 360,
   "id": "c139bd57",
   "metadata": {},
   "outputs": [
    {
     "data": {
      "text/latex": [
       "$\\displaystyle \\left[\\begin{matrix}0 & 0 & 0\\\\0 & 0 & 0\\\\0 & 0 & 0\\end{matrix}\\right]$"
      ],
      "text/plain": [
       "Matrix([\n",
       "[0, 0, 0],\n",
       "[0, 0, 0],\n",
       "[0, 0, 0]])"
      ]
     },
     "execution_count": 360,
     "metadata": {},
     "output_type": "execute_result"
    }
   ],
   "source": [
    "MN = M.dot(N)\n",
    "MN_dot_O = MN.dot(O)\n",
    "MN_dot_O = sy.Matrix(M_dot_N_dot_O)\n",
    "MN_dot_O"
   ]
  },
  {
   "cell_type": "code",
   "execution_count": null,
   "id": "4b936d7b",
   "metadata": {},
   "outputs": [],
   "source": []
  },
  {
   "attachments": {},
   "cell_type": "markdown",
   "id": "93b7462f-2e90-4589-ac40-804d86045be1",
   "metadata": {
    "tags": []
   },
   "source": [
    "Blue\n",
    "<br>\n",
    "__========================================================================__\n",
    "##### __The vdot() function returns the product of two vectors. It does not perform matrix multiplication. It should only be used for vectors.__ \n",
    "-----\n",
    "* Again, the __vdot()__ function only works with two vectors at a time. Can't do more than two, and can't do matrices.\n",
    "  * Think of like a more specialized vector-specific __dot()__ function"
   ]
  },
  {
   "cell_type": "code",
   "execution_count": 361,
   "id": "5e77a647-d626-4322-a45f-ba98db36d4eb",
   "metadata": {
    "tags": []
   },
   "outputs": [
    {
     "data": {
      "text/plain": [
       "100"
      ]
     },
     "execution_count": 361,
     "metadata": {},
     "output_type": "execute_result"
    }
   ],
   "source": [
    "np.vdot(v1, v2)"
   ]
  },
  {
   "cell_type": "code",
   "execution_count": null,
   "id": "68a3de91",
   "metadata": {},
   "outputs": [],
   "source": []
  },
  {
   "attachments": {},
   "cell_type": "markdown",
   "id": "9837e22f-03be-4eb2-9ecd-2bfd9808e19d",
   "metadata": {
    "tags": []
   },
   "source": [
    "Purple\n",
    "<br>\n",
    "__========================================================================__\n",
    "##### __The inner() function returns the inner product of two arrays__ \n",
    "-----\n",
    "* If you don't know what an _inner product_ is, here's a quick overview of how to do it by hand. You'll see that the code below returns the answer without us having to do all this work\n",
    "\n",
    "  * Given the following matrices:\n",
    "  <br><br>\n",
    "    * <span style = font-family:times>_u_ = [_u_<sub>1</sub>, _u_<sub>2</sub>, _u_<sub>3</sub> ,_u_<sub>4</sub>]</span>\n",
    "    * <span style = font-family:times>_v_ = [_v_<sub>1</sub>, _v_<sub>2</sub>, _v_<sub>3</sub>, _v_<sub>4</sub>]</span>\n",
    "    <br><br>\n",
    "  * Get the inner product by:\n",
    "  <br><br>\n",
    "    <span style = font-family:times>\n",
    "    * _u_<sup>_T_</sup> * _v_ = _u_<sub>1</sub>_v_<sub>1</sub>  +  _u_<sub>2</sub>_v_<sub>2</sub>  + \n",
    "     _u_<sub>3</sub>_v_<sub>3</sub>  +  _u_<sub>4</sub>_v_<sub>4</sub>\n",
    "<br><br>\n",
    "  -----\n",
    "* Here's how that work woud look if done by hand for our our vectors <span style = font-family:times>_v_<sub>3</sub></span> and <span style = font-family:times>_v_<sub>1</sub></span>\n",
    "\n",
    "  * Given the following vectors:\n",
    "    * <span style = font-family:times>_v_<sub>3</sub> = [-2, 5, 1, 3]</span>\n",
    "    * <span style = font-family:times>_v_<sub>1</sub> = [1, 3, 5, 7 ]</span>\n",
    "    <br><br>\n",
    "\n",
    "  * Get the transpose of the vector <span style = font-family:times>_v_<sub>3</sub></span>\n",
    "    * <span style = font-family:times>_v_<sub>3</sub><sup>_T_</sup> = [-2, \n",
    "                                                <br>&emsp; &emsp; &nbsp;5, \n",
    "                                                <br>&emsp; &emsp; &nbsp;1, \n",
    "                                                <br>&emsp; &emsp; &nbsp;3] </span>\n",
    "    <br><br>\n",
    "\n",
    "  * Find the inner product:\n",
    "    * <span style = font-family:times>_v_<sub>3</sub> * _v_<sub>1</sub> = _v_<sub>3</sub><sup>_T_</sup> * _v_<sub>1</sub>\n",
    "    <br>\n",
    "    <br><span style = font-family:times>_v_<sub>3</sub><sup>_T_</sup> * _v_<sub>1</sub> = (-2)(1) + (5)(3) + (1)(5) + (3)(7)\n",
    "    <br>_v_<sub>3</sub><sup>_T_</sup> * _v_<sub>1</sub> = -2 + 15 + 5 + 21\n",
    "    <br>_v_<sub>3</sub><sup>_T_</sup> * _v_<sub>1</sub> = 39\n",
    "  <br><br>\n",
    "  -----\n",
    "* You'll see with the code below that using the __inner()__ function is a hell of a lot faster"
   ]
  },
  {
   "cell_type": "code",
   "execution_count": 373,
   "id": "95d45cd1-35b6-4581-812a-fbed31d3694b",
   "metadata": {
    "tags": []
   },
   "outputs": [
    {
     "data": {
      "text/plain": [
       "39"
      ]
     },
     "execution_count": 373,
     "metadata": {},
     "output_type": "execute_result"
    }
   ],
   "source": [
    "np.inner(v3, v1)"
   ]
  },
  {
   "cell_type": "code",
   "execution_count": null,
   "id": "f4858fc4",
   "metadata": {},
   "outputs": [],
   "source": []
  },
  {
   "attachments": {},
   "cell_type": "markdown",
   "id": "2a05cab1",
   "metadata": {},
   "source": [
    "Red\n",
    "<br>\n",
    "__========================================================================__\n",
    "##### __The matmul() function returns the product of two matrices__ \n",
    "-----\n",
    "* __matmul()__ means matrix multiplication\n",
    "* It gives the product of _two (2)_ matrices, and never more than that"
   ]
  },
  {
   "cell_type": "code",
   "execution_count": 363,
   "id": "0beec94d",
   "metadata": {},
   "outputs": [
    {
     "data": {
      "text/latex": [
       "$\\displaystyle \\left[\\begin{matrix}74.0 & 102.0 & -16.0\\\\20.0 & -6.0 & -16.0\\\\-34.0 & -114.0 & -16.0\\end{matrix}\\right]$"
      ],
      "text/plain": [
       "Matrix([\n",
       "[ 74.0,  102.0, -16.0],\n",
       "[ 20.0,   -6.0, -16.0],\n",
       "[-34.0, -114.0, -16.0]])"
      ]
     },
     "execution_count": 363,
     "metadata": {},
     "output_type": "execute_result"
    }
   ],
   "source": [
    "M_matmul_N = sy.Matrix(np.matmul(M, N))\n",
    "M_matmul_N"
   ]
  },
  {
   "cell_type": "code",
   "execution_count": null,
   "id": "7b11c7e9",
   "metadata": {},
   "outputs": [],
   "source": []
  },
  {
   "attachments": {},
   "cell_type": "markdown",
   "id": "dda7e561",
   "metadata": {},
   "source": [
    "Orange\n",
    "<br>\n",
    "__========================================================================__\n",
    "##### __The linalg.matrix_power(M, n) raises the square matrix <span style = 'font-family:times'>_M_ </span> to the power of <span style = 'font-family:times'>_n___</span> \n",
    "-----\n",
    "* The code below will take the matrix <span style = font-family:times>_M_</span> and raise it to a power of 3"
   ]
  },
  {
   "cell_type": "code",
   "execution_count": 364,
   "id": "a0a2fb01",
   "metadata": {},
   "outputs": [
    {
     "data": {
      "text/latex": [
       "$\\displaystyle \\left[\\begin{matrix}-576.0 & -432.0 & -288.0\\\\-144.0 & 0 & 144.0\\\\288.0 & 432.0 & 576.0\\end{matrix}\\right]$"
      ],
      "text/plain": [
       "Matrix([\n",
       "[-576.0, -432.0, -288.0],\n",
       "[-144.0,      0,  144.0],\n",
       "[ 288.0,  432.0,  576.0]])"
      ]
     },
     "execution_count": 364,
     "metadata": {},
     "output_type": "execute_result"
    }
   ],
   "source": [
    "M_matpow_3 = sy.Matrix(np.linalg.matrix_power(M, 3))\n",
    "M_matpow_3"
   ]
  },
  {
   "cell_type": "code",
   "execution_count": null,
   "id": "81eab10e",
   "metadata": {},
   "outputs": [],
   "source": []
  },
  {
   "attachments": {},
   "cell_type": "markdown",
   "id": "65059e99",
   "metadata": {},
   "source": [
    "Yellow\n",
    "<br>\n",
    "__========================================================================__\n",
    "##### __The linalg.eig(O) returns both the eigenvalues and eigenvectors of the matrix <span style = 'font-family:times'>_O___ </span>\n",
    "-----\n",
    "* The _eig_ here stands for _eigenvalues_ and _eigenvectors_. Since these are both arrays, you'll have to print them one at a time in separate cells"
   ]
  },
  {
   "cell_type": "code",
   "execution_count": 365,
   "id": "9abb9561",
   "metadata": {},
   "outputs": [],
   "source": [
    "eig_vals, eig_vects = np.linalg.eig(O)"
   ]
  },
  {
   "cell_type": "code",
   "execution_count": 366,
   "id": "ecbedbc5",
   "metadata": {},
   "outputs": [
    {
     "data": {
      "text/latex": [
       "$\\displaystyle \\left[\\begin{matrix}14.9169749604089\\\\-21.4584874802044 + 2.7793445131583 i\\\\-21.4584874802044 - 2.7793445131583 i\\end{matrix}\\right]$"
      ],
      "text/plain": [
       "Matrix([\n",
       "[                     14.9169749604089],\n",
       "[-21.4584874802044 + 2.7793445131583*I],\n",
       "[-21.4584874802044 - 2.7793445131583*I]])"
      ]
     },
     "execution_count": 366,
     "metadata": {},
     "output_type": "execute_result"
    }
   ],
   "source": [
    "eig_vals_sy = sy.Matrix(eig_vals)\n",
    "eig_vals_sy"
   ]
  },
  {
   "attachments": {},
   "cell_type": "markdown",
   "id": "06db2ebc",
   "metadata": {},
   "source": [
    "* As you can see, we have 3 entries in for our _eigen values_"
   ]
  },
  {
   "cell_type": "code",
   "execution_count": 367,
   "id": "5e4cdb72",
   "metadata": {},
   "outputs": [
    {
     "data": {
      "text/latex": [
       "$\\displaystyle \\left[\\begin{matrix}0.510041378604249 & 0.0570231572483001 + 0.329994308405516 i & 0.0570231572483001 - 0.329994308405516 i\\\\-0.528541260225436 & -0.74852603053745 & -0.74852603053745\\\\0.678602923918535 & -0.531766352403908 - 0.211625716812234 i & -0.531766352403908 + 0.211625716812234 i\\end{matrix}\\right]$"
      ],
      "text/plain": [
       "Matrix([\n",
       "[ 0.510041378604249, 0.0570231572483001 + 0.329994308405516*I, 0.0570231572483001 - 0.329994308405516*I],\n",
       "[-0.528541260225436,                        -0.74852603053745,                        -0.74852603053745],\n",
       "[ 0.678602923918535, -0.531766352403908 - 0.211625716812234*I, -0.531766352403908 + 0.211625716812234*I]])"
      ]
     },
     "execution_count": 367,
     "metadata": {},
     "output_type": "execute_result"
    }
   ],
   "source": [
    "eig_vects_sy = sy.Matrix(eig_vects)\n",
    "eig_vects_sy"
   ]
  },
  {
   "attachments": {},
   "cell_type": "markdown",
   "id": "e8150af7",
   "metadata": {},
   "source": [
    "* As you can see, we have 3 vectors in for our _eigen vectors_. The 3 vectors have been combined into one matrix."
   ]
  },
  {
   "cell_type": "code",
   "execution_count": null,
   "id": "0612163b",
   "metadata": {},
   "outputs": [],
   "source": []
  },
  {
   "attachments": {},
   "cell_type": "markdown",
   "id": "adbb1d2d",
   "metadata": {},
   "source": [
    "Green\n",
    "<br>\n",
    "__========================================================================__\n",
    "##### __The linalgeigh(N) returns both the eigenvalues and eigenvectors of a complex Hermitian matrix or a real symmetric matrix <span style = 'font-family:times'>_N___</span> \n",
    "-----\n",
    "* TLDR; __linalgeigh(N)__ deals with complex matrices whereas __linalgeig(N)__ deals with the regular ass matrices we typically use"
   ]
  },
  {
   "cell_type": "code",
   "execution_count": 368,
   "id": "309e904b",
   "metadata": {},
   "outputs": [],
   "source": [
    "eigh_vals, eigh_vectors = np.linalg.eigh(N)"
   ]
  },
  {
   "cell_type": "code",
   "execution_count": 375,
   "id": "0aa23e96",
   "metadata": {},
   "outputs": [
    {
     "data": {
      "text/latex": [
       "$\\displaystyle \\left[\\begin{matrix}-14.1487390982186\\\\-7.4689095876744\\\\7.61764868589296\\end{matrix}\\right]$"
      ],
      "text/plain": [
       "Matrix([\n",
       "[-14.1487390982186],\n",
       "[ -7.4689095876744],\n",
       "[ 7.61764868589296]])"
      ]
     },
     "execution_count": 375,
     "metadata": {},
     "output_type": "execute_result"
    }
   ],
   "source": [
    "eigh_vals_sy = sy.Matrix(eigh_vals)\n",
    "eigh_vals_sy"
   ]
  },
  {
   "cell_type": "code",
   "execution_count": 378,
   "id": "18f33e96",
   "metadata": {},
   "outputs": [
    {
     "data": {
      "text/latex": [
       "$\\displaystyle \\left[\\begin{matrix}-0.556308188718731 & 0.675373051386258 & 0.484140930541614\\\\-0.791757324484914 & -0.25392411413015 & -0.555556372826115\\\\-0.25227274583073 & -0.692382687337309 & 0.675991624198548\\end{matrix}\\right]$"
      ],
      "text/plain": [
       "Matrix([\n",
       "[-0.556308188718731,  0.675373051386258,  0.484140930541614],\n",
       "[-0.791757324484914,  -0.25392411413015, -0.555556372826115],\n",
       "[ -0.25227274583073, -0.692382687337309,  0.675991624198548]])"
      ]
     },
     "execution_count": 378,
     "metadata": {},
     "output_type": "execute_result"
    }
   ],
   "source": [
    "eigh_vectors_sy = sy.Matrix(eigh_vectors)\n",
    "eigh_vectors_sy"
   ]
  },
  {
   "cell_type": "code",
   "execution_count": null,
   "id": "bb18f404",
   "metadata": {},
   "outputs": [],
   "source": []
  },
  {
   "attachments": {},
   "cell_type": "markdown",
   "id": "39c5c6e8",
   "metadata": {},
   "source": [
    "Blue\n",
    "<br>\n",
    "__========================================================================__\n",
    "##### __The linalg.det(N) returns the determinant of the matrix <span style = 'font-family:times'>_N___</span> \n",
    "-----\n",
    "* Bullet 1\n",
    "* Bullet 2\n",
    "  * Bullet 2a\n",
    "  * Bullet 2b"
   ]
  },
  {
   "cell_type": "code",
   "execution_count": 371,
   "id": "c0299ac3",
   "metadata": {},
   "outputs": [
    {
     "data": {
      "text/plain": [
       "873.0000000000006"
      ]
     },
     "execution_count": 371,
     "metadata": {},
     "output_type": "execute_result"
    }
   ],
   "source": [
    "np.linalg.det(N)"
   ]
  },
  {
   "cell_type": "code",
   "execution_count": null,
   "id": "90ffb478",
   "metadata": {},
   "outputs": [],
   "source": []
  },
  {
   "attachments": {},
   "cell_type": "markdown",
   "id": "2237ef03",
   "metadata": {},
   "source": [
    "Purple\n",
    "<br>\n",
    "__========================================================================__\n",
    "##### __The linalg.inv(N) returns the inverse of the matrix <span style = 'font-family:times'>_N___</span>\n",
    "-----\n",
    "* This just a quick way to get the inverse of a matrix"
   ]
  },
  {
   "cell_type": "code",
   "execution_count": 372,
   "id": "a1659e90",
   "metadata": {},
   "outputs": [
    {
     "data": {
      "text/plain": [
       "array([[-0.04009164, -0.06071019,  0.0836197 ],\n",
       "       [-0.03550974, -0.02520046, -0.09736541],\n",
       "       [ 0.0882016 , -0.06643757,  0.01603666]])"
      ]
     },
     "execution_count": 372,
     "metadata": {},
     "output_type": "execute_result"
    }
   ],
   "source": [
    "np.linalg.inv(N)"
   ]
  },
  {
   "cell_type": "code",
   "execution_count": null,
   "id": "db524899",
   "metadata": {},
   "outputs": [],
   "source": []
  }
 ],
 "metadata": {
  "kernelspec": {
   "display_name": "Python 3 (ipykernel)",
   "language": "python",
   "name": "python3"
  },
  "language_info": {
   "codemirror_mode": {
    "name": "ipython",
    "version": 3
   },
   "file_extension": ".py",
   "mimetype": "text/x-python",
   "name": "python",
   "nbconvert_exporter": "python",
   "pygments_lexer": "ipython3",
   "version": "3.10.4"
  }
 },
 "nbformat": 4,
 "nbformat_minor": 5
}
