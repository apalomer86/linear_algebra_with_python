{
 "cells": [
  {
   "attachments": {},
   "cell_type": "markdown",
   "id": "aaa99961-9492-4aae-b170-e374937dbdd7",
   "metadata": {
    "tags": []
   },
   "source": [
    "### __LEARNING OBJECTIVES AND LESSON OVERVIEW__"
   ]
  },
  {
   "attachments": {},
   "cell_type": "markdown",
   "id": "9af9fa3b-02e3-4e2a-b0d9-fa0799681afc",
   "metadata": {
    "tags": []
   },
   "source": [
    "Red\n",
    "__========================================================================__\n",
    "#### __Learning Objectives__ \n",
    "-----\n",
    "* In this lesson you will learn how to\n",
    "  * Input matrices into Python\n",
    "  * Explain functions you can use with Python"
   ]
  },
  {
   "cell_type": "markdown",
   "id": "f8c0a9d2-eaf3-4c5f-bf52-b4e510935917",
   "metadata": {},
   "source": [
    "<br><br>"
   ]
  },
  {
   "attachments": {},
   "cell_type": "markdown",
   "id": "eafc65de-275e-4ed1-b962-3e038e19731c",
   "metadata": {
    "tags": []
   },
   "source": [
    "### __INTRODUCTION TO LINEAR ALGEBRA FUNCTIONS IN PYTHON__ \n",
    "__===========================================================================__"
   ]
  },
  {
   "attachments": {},
   "cell_type": "markdown",
   "id": "3fd5b0d1-3d76-490b-bfad-2a6a59fc69b3",
   "metadata": {
    "tags": []
   },
   "source": [
    "Orange\n",
    "<br>\n",
    "__==================================================================================__\n",
    "#### __Introduction to Linear Algebra FUnctions in Python__ \n",
    "-----\n",
    "* Bullet 1\n",
    "* Bullet 2\n",
    "  * Bullet 2a\n",
    "  * Bullet 2b"
   ]
  },
  {
   "cell_type": "code",
   "execution_count": 1,
   "id": "119c8b55-b66e-4639-9306-7f27e85d8291",
   "metadata": {
    "tags": []
   },
   "outputs": [],
   "source": [
    "import numpy as np\n",
    "import random\n",
    "# from numpy.linalg import multi_dot"
   ]
  },
  {
   "cell_type": "code",
   "execution_count": 19,
   "id": "420826eb-2854-4ee8-93e1-c1018965750f",
   "metadata": {
    "tags": []
   },
   "outputs": [],
   "source": [
    "# Given the follogin matrices and vectors:\n",
    "M = np.linspace(-8, 8, 9).reshape(3, 3)\n",
    "N = np.random.randint(-8, 8, size = (3, 3))\n",
    "O = 2*N\n",
    "v1 = np.array([1, 3, 5, 7])\n",
    "v2 = np.array([2, 4, 6, 8])\n",
    "v3 = np.array([-2, 5, 1, 3])"
   ]
  },
  {
   "cell_type": "markdown",
   "id": "175f0d16-7c18-453e-ab69-83a08ae2cd88",
   "metadata": {},
   "source": [
    "<br><br>"
   ]
  },
  {
   "attachments": {},
   "cell_type": "markdown",
   "id": "603d73c3-bbdc-4a81-979f-fa3d6acfd3a1",
   "metadata": {
    "tags": []
   },
   "source": [
    "Yellow\n",
    "__========================================================================__\n",
    "#### __The dot() function does the product of either two matrices or two vectors__ \n",
    "-----\n",
    "* Bullet 1\n",
    "* Bullet 2\n",
    "  * Bullet 2a\n",
    "  * Bullet 2b"
   ]
  },
  {
   "cell_type": "code",
   "execution_count": 20,
   "id": "0f41760c-aa5b-430a-995e-608f53becde5",
   "metadata": {
    "tags": []
   },
   "outputs": [
    {
     "data": {
      "text/plain": [
       "array([[ 32.,  36.,  40.],\n",
       "       [-14., -12., -10.],\n",
       "       [ 94.,  78.,  62.]])"
      ]
     },
     "execution_count": 20,
     "metadata": {},
     "output_type": "execute_result"
    }
   ],
   "source": [
    "N.dot(M)"
   ]
  },
  {
   "cell_type": "code",
   "execution_count": 21,
   "id": "0590dcab-b5fb-4e61-809e-f756b46734dd",
   "metadata": {
    "tags": []
   },
   "outputs": [
    {
     "data": {
      "text/plain": [
       "100"
      ]
     },
     "execution_count": 21,
     "metadata": {},
     "output_type": "execute_result"
    }
   ],
   "source": [
    "v1.dot(v2)"
   ]
  },
  {
   "cell_type": "markdown",
   "id": "c1d67c60-c031-41ca-96ef-5e589ff1c3c4",
   "metadata": {},
   "source": [
    "<br><br>"
   ]
  },
  {
   "attachments": {},
   "cell_type": "markdown",
   "id": "ce01494b-9443-41a4-b6f2-92152baf572b",
   "metadata": {
    "tags": []
   },
   "source": [
    "Green\n",
    "__========================================================================__\n",
    "#### __The multidot() function returns the product of two or several matrices__ \n",
    "-----\n",
    "* Bullet 1\n",
    "* Bullet 2\n",
    "  * Bullet 2a\n",
    "  * Bullet 2b"
   ]
  },
  {
   "cell_type": "code",
   "execution_count": 22,
   "id": "7998e93c-efc5-435e-a163-707d1446a4cf",
   "metadata": {
    "tags": []
   },
   "outputs": [
    {
     "data": {
      "text/plain": [
       "array([[-496.,   68.,  688.],\n",
       "       [  20., -460.,  244.],\n",
       "       [ 536., -988., -200.]])"
      ]
     },
     "execution_count": 22,
     "metadata": {},
     "output_type": "execute_result"
    }
   ],
   "source": [
    "np.linalg.multi_dot([M, N, O])"
   ]
  },
  {
   "cell_type": "markdown",
   "id": "c46337dc-05bc-4293-9d3f-a861eab82d40",
   "metadata": {},
   "source": [
    "<br><br>"
   ]
  },
  {
   "attachments": {},
   "cell_type": "markdown",
   "id": "10724f1f-15fc-4999-b1d2-0b60b3d26c10",
   "metadata": {
    "tags": []
   },
   "source": [
    "Blue\n",
    "__========================================================================__\n",
    "#### __The vdot() function returns the product of two vectors. It does not perform a matrix multiplication. It should only be used for vectors__ \n",
    "-----\n",
    "* Bullet 1\n",
    "* Bullet 2\n",
    "  * Bullet 2a\n",
    "  * Bullet 2b"
   ]
  },
  {
   "cell_type": "code",
   "execution_count": 23,
   "id": "28a8af20-8a18-48f7-a5be-870aba92ca0e",
   "metadata": {
    "tags": []
   },
   "outputs": [
    {
     "data": {
      "text/plain": [
       "100"
      ]
     },
     "execution_count": 23,
     "metadata": {},
     "output_type": "execute_result"
    }
   ],
   "source": [
    "np.vdot(v1, v2)"
   ]
  },
  {
   "cell_type": "markdown",
   "id": "9f767051-39ea-4f95-8c86-1075904c0d5e",
   "metadata": {},
   "source": [
    "<br><br>"
   ]
  },
  {
   "attachments": {},
   "cell_type": "markdown",
   "id": "93b7462f-2e90-4589-ac40-804d86045be1",
   "metadata": {
    "tags": []
   },
   "source": [
    "Purple\n",
    "__========================================================================__\n",
    "#### __The inner() function returns the inner product of two arrays__ \n",
    "-----\n",
    "* Bullet 1\n",
    "* Bullet 2\n",
    "  * Bullet 2a\n",
    "  * Bullet 2b"
   ]
  },
  {
   "cell_type": "code",
   "execution_count": 24,
   "id": "5e77a647-d626-4322-a45f-ba98db36d4eb",
   "metadata": {
    "tags": []
   },
   "outputs": [
    {
     "data": {
      "text/plain": [
       "39"
      ]
     },
     "execution_count": 24,
     "metadata": {},
     "output_type": "execute_result"
    }
   ],
   "source": [
    "np.inner(v3, v1)"
   ]
  },
  {
   "cell_type": "markdown",
   "id": "c941e326-aaa0-4dae-830c-da6506ef3ca0",
   "metadata": {},
   "source": [
    "<br><br>"
   ]
  },
  {
   "attachments": {},
   "cell_type": "markdown",
   "id": "9837e22f-03be-4eb2-9ecd-2bfd9808e19d",
   "metadata": {
    "tags": []
   },
   "source": [
    "Red\n",
    "__========================================================================__\n",
    "#### __The matmul() function returns the product of two matrices__ \n",
    "-----\n",
    "* Bullet 1\n",
    "* Bullet 2\n",
    "  * Bullet 2a\n",
    "  * Bullet 2b"
   ]
  },
  {
   "cell_type": "code",
   "execution_count": 25,
   "id": "95d45cd1-35b6-4581-812a-fbed31d3694b",
   "metadata": {
    "tags": []
   },
   "outputs": [
    {
     "data": {
      "text/plain": [
       "array([[ 84., -70.,  -4.],\n",
       "       [ -6., -22.,   8.],\n",
       "       [-96.,  26.,  20.]])"
      ]
     },
     "execution_count": 25,
     "metadata": {},
     "output_type": "execute_result"
    }
   ],
   "source": [
    "np.matmul(M, N)"
   ]
  },
  {
   "cell_type": "markdown",
   "id": "4b495682-eb77-4df0-b1a5-6bdecc9f4f8f",
   "metadata": {},
   "source": [
    "<br><br>"
   ]
  },
  {
   "attachments": {},
   "cell_type": "markdown",
   "id": "30c40151-d18a-438b-84d2-c25a34156dd0",
   "metadata": {
    "tags": []
   },
   "source": [
    "Orange\n",
    "__========================================================================__\n",
    "#### __The linalg.matrix_power(M, n) raises the square matrix M to the power of n__ \n",
    "-----\n",
    "* Bullet 1\n",
    "* Bullet 2\n",
    "  * Bullet 2a\n",
    "  * Bullet 2b"
   ]
  },
  {
   "cell_type": "code",
   "execution_count": 26,
   "id": "9d8a9171-efb2-4415-ac01-b0cfd63ff69a",
   "metadata": {
    "tags": []
   },
   "outputs": [
    {
     "data": {
      "text/plain": [
       "array([[-576., -432., -288.],\n",
       "       [-144.,    0.,  144.],\n",
       "       [ 288.,  432.,  576.]])"
      ]
     },
     "execution_count": 26,
     "metadata": {},
     "output_type": "execute_result"
    }
   ],
   "source": [
    "np.linalg.matrix_power(M, 3)"
   ]
  },
  {
   "cell_type": "markdown",
   "id": "05096304-b27e-4226-b86a-302c299b135c",
   "metadata": {},
   "source": [
    "<br><br>"
   ]
  },
  {
   "attachments": {},
   "cell_type": "markdown",
   "id": "a940c60e-769c-4ceb-bfb8-ad5aca00fb6a",
   "metadata": {
    "tags": []
   },
   "source": [
    "Yellow\n",
    "__========================================================================__\n",
    "#### __The linalg.eig(O) returns both the eigenvalues and eigenvectors of the matrix O__ \n",
    "-----\n",
    "* Bullet 1\n",
    "* Bullet 2\n",
    "  * Bullet 2a\n",
    "  * Bullet 2b"
   ]
  },
  {
   "cell_type": "code",
   "execution_count": 27,
   "id": "6ce6c5a6-ad7f-4823-819d-c0d580367195",
   "metadata": {
    "tags": []
   },
   "outputs": [],
   "source": [
    "eig_vals, eig_vects = np.linalg.eig(O)"
   ]
  },
  {
   "cell_type": "code",
   "execution_count": 28,
   "id": "ed6047b3-f823-4ef0-8074-885f05cd262e",
   "metadata": {
    "tags": []
   },
   "outputs": [
    {
     "data": {
      "text/plain": [
       "array([-4.18016421+8.33462154j, -4.18016421-8.33462154j,\n",
       "       22.36032842+0.j        ])"
      ]
     },
     "execution_count": 28,
     "metadata": {},
     "output_type": "execute_result"
    }
   ],
   "source": [
    "eig_vals"
   ]
  },
  {
   "cell_type": "code",
   "execution_count": 29,
   "id": "ebc583dd-0a1e-4ee1-beeb-f04050dc476e",
   "metadata": {
    "tags": []
   },
   "outputs": [
    {
     "data": {
      "text/plain": [
       "array([[-0.40505142+0.421883j  , -0.40505142-0.421883j  ,\n",
       "        -0.18739429+0.j        ],\n",
       "       [-0.36982427-0.07672171j, -0.36982427+0.07672171j,\n",
       "        -0.63083623+0.j        ],\n",
       "       [-0.71783833+0.j        , -0.71783833-0.j        ,\n",
       "         0.7529469 +0.j        ]])"
      ]
     },
     "execution_count": 29,
     "metadata": {},
     "output_type": "execute_result"
    }
   ],
   "source": [
    "eig_vects"
   ]
  },
  {
   "cell_type": "markdown",
   "id": "b5410c04-4ee0-43bc-ae96-fccfc0050239",
   "metadata": {},
   "source": [
    "<br><br>"
   ]
  },
  {
   "cell_type": "markdown",
   "id": "10d1bb20-3ca4-40f3-a8bb-844f7aa4d483",
   "metadata": {
    "tags": []
   },
   "source": [
    "Green\n",
    "__========================================================================__\n",
    "#### __The linalg(eigh(N) returns both the eigenvalues and the eigenvectors of a complex Hermitian matrix or a real symmetric matrix N__ \n",
    "-----\n",
    "* Bullet 1\n",
    "* Bullet 2\n",
    "  * Bullet 2a\n",
    "  * Bullet 2b"
   ]
  },
  {
   "cell_type": "code",
   "execution_count": 30,
   "id": "befa7560-6559-4fb1-8ed3-7d81ae9de16e",
   "metadata": {
    "tags": []
   },
   "outputs": [],
   "source": [
    "eigh_vals, eigh_vectors = np.linalg.eigh(N)"
   ]
  },
  {
   "cell_type": "code",
   "execution_count": 31,
   "id": "a6cb45a0-c381-4d1d-b634-53c1c27d7d1c",
   "metadata": {
    "tags": []
   },
   "outputs": [
    {
     "data": {
      "text/plain": [
       "array([-10.46547365,   5.34507714,  12.12039651])"
      ]
     },
     "execution_count": 31,
     "metadata": {},
     "output_type": "execute_result"
    }
   ],
   "source": [
    "eigh_vals"
   ]
  },
  {
   "cell_type": "code",
   "execution_count": 32,
   "id": "70d62ff8-be5d-45c2-9092-5d25d6db267d",
   "metadata": {
    "tags": []
   },
   "outputs": [
    {
     "data": {
      "text/plain": [
       "array([[ 0.82849562, -0.48858049, -0.27364963],\n",
       "       [ 0.23975171,  0.7510839 , -0.61513583],\n",
       "       [ 0.50607719,  0.44402938,  0.73940773]])"
      ]
     },
     "execution_count": 32,
     "metadata": {},
     "output_type": "execute_result"
    }
   ],
   "source": [
    "eigh_vectors"
   ]
  },
  {
   "cell_type": "markdown",
   "id": "b9eeccfc-cd99-4477-9f7a-e15c0407d5f2",
   "metadata": {},
   "source": [
    "<br><br>"
   ]
  },
  {
   "attachments": {},
   "cell_type": "markdown",
   "id": "51c320f3-4128-4e02-b7a2-c05fda652e1c",
   "metadata": {
    "tags": []
   },
   "source": [
    "Blue\n",
    "__========================================================================__\n",
    "#### __The linalg.det(N) returns the determinant of the matrix N__ \n",
    "-----\n",
    "* Bullet 1\n",
    "* Bullet 2\n",
    "  * Bullet 2a\n",
    "  * Bullet 2b"
   ]
  },
  {
   "cell_type": "code",
   "execution_count": 33,
   "id": "ec19a3f0-a18c-4353-96db-0ab8b493b151",
   "metadata": {
    "tags": []
   },
   "outputs": [
    {
     "data": {
      "text/plain": [
       "242.99999999999994"
      ]
     },
     "execution_count": 33,
     "metadata": {},
     "output_type": "execute_result"
    }
   ],
   "source": [
    "np.linalg.det(N)"
   ]
  },
  {
   "cell_type": "markdown",
   "id": "7b796777-c84d-4f0f-b577-ff09f0648240",
   "metadata": {},
   "source": [
    "-----\n",
    "* The __linalg.inv(N)__ returns the inverse of the matrix N"
   ]
  },
  {
   "cell_type": "code",
   "execution_count": 34,
   "id": "2640405a-89b2-4548-9d55-bd65931bdd4d",
   "metadata": {
    "tags": []
   },
   "outputs": [
    {
     "data": {
      "text/plain": [
       "array([[ 0.0617284 , -0.14403292, -0.12757202],\n",
       "       [ 0.17283951, -0.06995885, -0.09053498],\n",
       "       [ 0.27160494, -0.30041152, -0.09465021]])"
      ]
     },
     "execution_count": 34,
     "metadata": {},
     "output_type": "execute_result"
    }
   ],
   "source": [
    "np.linalg.inv(N)"
   ]
  },
  {
   "cell_type": "markdown",
   "id": "b08583f0-cfa6-4e96-8738-3b7a1a085995",
   "metadata": {},
   "source": [
    "<br><br>"
   ]
  }
 ],
 "metadata": {
  "kernelspec": {
   "display_name": "Python 3 (ipykernel)",
   "language": "python",
   "name": "python3"
  },
  "language_info": {
   "codemirror_mode": {
    "name": "ipython",
    "version": 3
   },
   "file_extension": ".py",
   "mimetype": "text/x-python",
   "name": "python",
   "nbconvert_exporter": "python",
   "pygments_lexer": "ipython3",
   "version": "3.10.4"
  }
 },
 "nbformat": 4,
 "nbformat_minor": 5
}
